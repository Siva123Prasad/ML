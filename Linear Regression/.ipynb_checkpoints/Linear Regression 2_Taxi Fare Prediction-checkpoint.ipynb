{
 "cells": [
  {
   "cell_type": "code",
   "execution_count": null,
   "id": "4d48f698-29ac-4e87-a398-6eea0b6f66f7",
   "metadata": {},
   "outputs": [],
   "source": [
    "# assumption in the below code is that features are not correlated. hence linear regression is used to predict the prices"
   ]
  },
  {
   "cell_type": "code",
   "execution_count": 75,
   "id": "99145eaa-21c2-4624-85f4-6b041f0cf507",
   "metadata": {},
   "outputs": [],
   "source": [
    "#general\n",
    "import io\n",
    "\n",
    "# data\n",
    "import numpy as np\n",
    "import pandas as pd\n",
    "\n",
    "# machine learning\n",
    "import keras\n",
    "\n",
    "# data visualization\n",
    "import plotly.express as px\n",
    "from plotly.subplots import make_subplots\n",
    "import plotly.graph_objects as go\n",
    "import seaborn as sns\n"
   ]
  },
  {
   "cell_type": "code",
   "execution_count": 77,
   "id": "f3a52007-9032-4b20-bda7-d64f828a61ae",
   "metadata": {},
   "outputs": [
    {
     "name": "stdout",
     "output_type": "stream",
     "text": [
      "Read dataset completed successfully.\n",
      "Total number of rows: 31694\n",
      "\n",
      "\n",
      "Total number of rows: 31694\n",
      "\n",
      "\n",
      "What is the maximum fare? \t\t\t\tAnswer: $159.25\n",
      "What is the mean distance across all trips? \t\tAnswer: 8.2895 miles\n",
      "How many cab companies are in the dataset? \t\tAnswer: 31\n",
      "What is the most frequent payment type? \t\tAnswer: Credit Card\n",
      "Are any features missing data? \t\t\t\tAnswer: No\n"
     ]
    }
   ],
   "source": [
    "\n",
    "chicago_taxi_dataset = pd.read_csv(\"https://download.mlcc.google.com/mledu-datasets/chicago_taxi_train.csv\")\n",
    "\n",
    "training_df = chicago_taxi_dataset[['TRIP_MILES', 'TRIP_SECONDS', 'FARE', 'COMPANY', 'PAYMENT_TYPE', 'TIP_RATE']]\n",
    "\n",
    "print('Read dataset completed successfully.')\n",
    "print('Total number of rows: {0}\\n\\n'.format(len(training_df.index)))\n",
    "training_df.head(200)\n",
    "\n",
    "print('Total number of rows: {0}\\n\\n'.format(len(training_df.index)))\n",
    "training_df.describe(include='all')\n",
    "\n",
    "# What is the maximum fare?\n",
    "max_fare = training_df['FARE'].max()\n",
    "print(\"What is the maximum fare? \\t\\t\\t\\tAnswer: ${fare:.2f}\".format(fare = max_fare))\n",
    "\n",
    "# What is the mean distance across all trips?\n",
    "mean_distance = training_df['TRIP_MILES'].mean()\n",
    "print(\"What is the mean distance across all trips? \\t\\tAnswer: {mean:.4f} miles\".format(mean = mean_distance))\n",
    "\n",
    "# How many cab companies are in the dataset?\n",
    "num_unique_companies =  training_df['COMPANY'].nunique()\n",
    "print(\"How many cab companies are in the dataset? \\t\\tAnswer: {number}\".format(number = num_unique_companies))\n",
    "\n",
    "# What is the most frequent payment type?\n",
    "most_freq_payment_type = training_df['PAYMENT_TYPE'].value_counts().idxmax()\n",
    "print(\"What is the most frequent payment type? \\t\\tAnswer: {type}\".format(type = most_freq_payment_type))\n",
    "\n",
    "# Are any features missing data?\n",
    "missing_values = training_df.isnull().sum().sum()\n",
    "print(\"Are any features missing data? \\t\\t\\t\\tAnswer:\", \"No\" if missing_values == 0 else \"Yes\")\n"
   ]
  },
  {
   "cell_type": "code",
   "execution_count": 101,
   "id": "bd7786bb-2521-474d-b66c-879c5711568c",
   "metadata": {},
   "outputs": [
    {
     "data": {
      "text/plain": [
       "<seaborn.axisgrid.PairGrid at 0x19c33760680>"
      ]
     },
     "execution_count": 101,
     "metadata": {},
     "output_type": "execute_result"
    }
   ],
   "source": [
    "training_df.corr(numeric_only = True)\n",
    "\n",
    "sns.pairplot(training_df, x_vars=[\"FARE\", \"TRIP_MILES\", \"TRIP_SECONDS\"], y_vars=[\"FARE\", \"TRIP_MILES\", \"TRIP_SECONDS\"])"
   ]
  },
  {
   "cell_type": "code",
   "execution_count": 81,
   "id": "b01cdc1a-8ef4-41fb-b902-8459ab6edf41",
   "metadata": {},
   "outputs": [],
   "source": [
    "\n",
    "def make_plots(df, feature_names, label_name, model_output, sample_size=200):\n",
    "\n",
    "  random_sample = df.sample(n=sample_size).copy()\n",
    "  random_sample.reset_index()\n",
    "  weights, bias, epochs, rmse = model_output\n",
    "\n",
    "  is_2d_plot = len(feature_names) == 1\n",
    "  model_plot_type = \"scatter\" if is_2d_plot else \"surface\"\n",
    "  fig = make_subplots(rows=1, cols=2,\n",
    "                      subplot_titles=(\"Loss Curve\", \"Model Plot\"),\n",
    "                      specs=[[{\"type\": \"scatter\"}, {\"type\": model_plot_type}]])\n",
    "\n",
    "  plot_data(random_sample, feature_names, label_name, fig)\n",
    "  plot_model(random_sample, feature_names, weights, bias, fig)\n",
    "  plot_loss_curve(epochs, rmse, fig)\n",
    "\n",
    "  fig.show()\n",
    "  return\n"
   ]
  },
  {
   "cell_type": "code",
   "execution_count": 83,
   "id": "7d5cebb4-d639-45b9-9710-ddbf6d1e86fe",
   "metadata": {},
   "outputs": [],
   "source": [
    "\n",
    "def plot_loss_curve(epochs, rmse, fig):\n",
    "  curve = px.line(x=epochs, y=rmse)\n",
    "  curve.update_traces(line_color='#ff0000', line_width=3)\n",
    "\n",
    "  fig.append_trace(curve.data[0], row=1, col=1)\n",
    "  fig.update_xaxes(title_text=\"Epoch\", row=1, col=1)\n",
    "  fig.update_yaxes(title_text=\"Root Mean Squared Error\", row=1, col=1, range=[rmse.min()*0.8, rmse.max()])\n",
    "\n",
    "  return\n"
   ]
  },
  {
   "cell_type": "code",
   "execution_count": 85,
   "id": "74d3cbdd-cefc-4b7f-8494-694f990ecedd",
   "metadata": {},
   "outputs": [],
   "source": [
    "\n",
    "def plot_data(df, features, label, fig):\n",
    "  if len(features) == 1:\n",
    "    scatter = px.scatter(df, x=features[0], y=label)\n",
    "  else:\n",
    "    scatter = px.scatter_3d(df, x=features[0], y=features[1], z=label)\n",
    "\n",
    "  fig.append_trace(scatter.data[0], row=1, col=2)\n",
    "  if len(features) == 1:\n",
    "    fig.update_xaxes(title_text=features[0], row=1, col=2)\n",
    "    fig.update_yaxes(title_text=label, row=1, col=2)\n",
    "  else:\n",
    "    fig.update_layout(scene1=dict(xaxis_title=features[0], yaxis_title=features[1], zaxis_title=label))\n",
    "\n",
    "  return\n"
   ]
  },
  {
   "cell_type": "code",
   "execution_count": 87,
   "id": "bf1dde42-ee81-4bea-b083-7cdabd60e281",
   "metadata": {},
   "outputs": [],
   "source": [
    "\n",
    "def plot_model(df, features, weights, bias, fig):\n",
    "  df['FARE_PREDICTED'] = bias[0]\n",
    "\n",
    "  for index, feature in enumerate(features):\n",
    "    df['FARE_PREDICTED'] = df['FARE_PREDICTED'] + weights[index][0] * df[feature]\n",
    "\n",
    "  if len(features) == 1:\n",
    "    model = px.line(df, x=features[0], y='FARE_PREDICTED')\n",
    "    model.update_traces(line_color='#ff0000', line_width=3)\n",
    "  else:\n",
    "    z_name, y_name = \"FARE_PREDICTED\", features[1]\n",
    "    z = [df[z_name].min(), (df[z_name].max() - df[z_name].min()) / 2, df[z_name].max()]\n",
    "    y = [df[y_name].min(), (df[y_name].max() - df[y_name].min()) / 2, df[y_name].max()]\n",
    "    x = []\n",
    "    for i in range(len(y)):\n",
    "      x.append((z[i] - weights[1][0] * y[i] - bias[0]) / weights[0][0])\n",
    "\n",
    "    plane=pd.DataFrame({'x':x, 'y':y, 'z':[z] * 3})\n",
    "\n",
    "    light_yellow = [[0, '#89CFF0'], [1, '#FFDB58']]\n",
    "    model = go.Figure(data=go.Surface(x=plane['x'], y=plane['y'], z=plane['z'],\n",
    "                                      colorscale=light_yellow))\n",
    "\n",
    "  fig.add_trace(model.data[0], row=1, col=2)\n",
    "\n",
    "  return\n"
   ]
  },
  {
   "cell_type": "code",
   "execution_count": 89,
   "id": "1c4e8343-e647-4990-8647-8ff55787714f",
   "metadata": {},
   "outputs": [
    {
     "name": "stdout",
     "output_type": "stream",
     "text": [
      "SUCCESS: defining plotting functions complete.\n"
     ]
    }
   ],
   "source": [
    "\n",
    "def model_info(feature_names, label_name, model_output):\n",
    "  weights = model_output[0]\n",
    "  bias = model_output[1]\n",
    "\n",
    "  nl = \"\\n\"\n",
    "  header = \"-\" * 80\n",
    "  banner = header + nl + \"|\" + \"MODEL INFO\".center(78) + \"|\" + nl + header\n",
    "\n",
    "  info = \"\"\n",
    "  equation = label_name + \" = \"\n",
    "\n",
    "  for index, feature in enumerate(feature_names):\n",
    "    info = info + \"Weight for feature[{}]: {:.3f}\\n\".format(feature, weights[index][0])\n",
    "    equation = equation + \"{:.3f} * {} + \".format(weights[index][0], feature)\n",
    "\n",
    "  info = info + \"Bias: {:.3f}\\n\".format(bias[0])\n",
    "  equation = equation + \"{:.3f}\\n\".format(bias[0])\n",
    "\n",
    "  return banner + nl + info + nl + equation\n",
    "\n",
    "print(\"SUCCESS: defining plotting functions complete.\")\n"
   ]
  },
  {
   "cell_type": "code",
   "execution_count": 91,
   "id": "a152c9c8-d808-447e-ba1b-4628d4c23c03",
   "metadata": {},
   "outputs": [],
   "source": [
    "\n",
    "def build_model(my_learning_rate, num_features):\n",
    "  \"\"\"Create and compile a simple linear regression model.\"\"\"\n",
    "  # Describe the topography of the model.\n",
    "  # The topography of a simple linear regression model\n",
    "  # is a single node in a single layer.\n",
    "  inputs = keras.Input(shape=(num_features,))\n",
    "  outputs = keras.layers.Dense(units=1)(inputs)\n",
    "  model = keras.Model(inputs=inputs, outputs=outputs)\n",
    "\n",
    "  # Compile the model topography into code that Keras can efficiently\n",
    "  # execute. Configure training to minimize the model's mean squared error.\n",
    "  model.compile(optimizer=keras.optimizers.RMSprop(learning_rate=my_learning_rate),\n",
    "                loss=\"mean_squared_error\",\n",
    "                metrics=[keras.metrics.RootMeanSquaredError()])\n",
    "\n",
    "  return model\n",
    "\n"
   ]
  },
  {
   "cell_type": "code",
   "execution_count": 93,
   "id": "4c4ab4e9-04cd-43c0-96a5-265c35ec3556",
   "metadata": {},
   "outputs": [],
   "source": [
    "\n",
    "def train_model(model, df, features, label, epochs, batch_size):\n",
    "  \"\"\"Train the model by feeding it data.\"\"\"\n",
    "\n",
    "  # Feed the model the feature and the label.\n",
    "  # The model will train for the specified number of epochs.\n",
    "  # input_x = df.iloc[:,1:3].values\n",
    "  # df[feature]\n",
    "  history = model.fit(x=features,\n",
    "                      y=label,\n",
    "                      batch_size=batch_size,\n",
    "                      epochs=epochs)\n",
    "\n",
    "  # Gather the trained model's weight and bias.\n",
    "  trained_weight = model.get_weights()[0]\n",
    "  trained_bias = model.get_weights()[1]\n",
    "\n",
    "  # The list of epochs is stored separately from the rest of history.\n",
    "  epochs = history.epoch\n",
    "\n",
    "  # Isolate the error for each epoch.\n",
    "  hist = pd.DataFrame(history.history)\n",
    "\n",
    "  # To track the progression of training, we're going to take a snapshot\n",
    "  # of the model's root mean squared error at each epoch.\n",
    "  rmse = hist[\"root_mean_squared_error\"]\n",
    "\n",
    "  return trained_weight, trained_bias, epochs, rmse\n",
    "\n"
   ]
  },
  {
   "cell_type": "code",
   "execution_count": 95,
   "id": "a5a6b87a-831f-4a2a-9d11-d7fbe3372ab9",
   "metadata": {},
   "outputs": [
    {
     "name": "stdout",
     "output_type": "stream",
     "text": [
      "SUCCESS: defining linear regression functions complete.\n"
     ]
    }
   ],
   "source": [
    "\n",
    "def run_experiment(df, feature_names, label_name, learning_rate, epochs, batch_size):\n",
    "\n",
    "  print('INFO: starting training experiment with features={} and label={}\\n'.format(feature_names, label_name))\n",
    "\n",
    "  num_features = len(feature_names)\n",
    "\n",
    "  features = df.loc[:, feature_names].values\n",
    "  label = df[label_name].values\n",
    "\n",
    "  model = build_model(learning_rate, num_features)\n",
    "  model_output = train_model(model, df, features, label, epochs, batch_size)\n",
    "\n",
    "  print('\\nSUCCESS: training experiment complete\\n')\n",
    "  print('{}'.format(model_info(feature_names, label_name, model_output)))\n",
    "  make_plots(df, feature_names, label_name, model_output)\n",
    "\n",
    "  return model\n",
    "\n",
    "print(\"SUCCESS: defining linear regression functions complete.\")\n"
   ]
  },
  {
   "cell_type": "code",
   "execution_count": 97,
   "id": "260796b7-542f-4bc1-8913-a8143aaabbb3",
   "metadata": {},
   "outputs": [
    {
     "name": "stdout",
     "output_type": "stream",
     "text": [
      "INFO: starting training experiment with features=['TRIP_MILES'] and label=FARE\n",
      "\n",
      "Epoch 1/20\n",
      "\u001b[1m634/634\u001b[0m \u001b[32m━━━━━━━━━━━━━━━━━━━━\u001b[0m\u001b[37m\u001b[0m \u001b[1m1s\u001b[0m 550us/step - loss: 1500.2528 - root_mean_squared_error: 38.7182\n",
      "Epoch 2/20\n",
      "\u001b[1m634/634\u001b[0m \u001b[32m━━━━━━━━━━━━━━━━━━━━\u001b[0m\u001b[37m\u001b[0m \u001b[1m0s\u001b[0m 548us/step - loss: 998.8117 - root_mean_squared_error: 31.5810 \n",
      "Epoch 3/20\n",
      "\u001b[1m634/634\u001b[0m \u001b[32m━━━━━━━━━━━━━━━━━━━━\u001b[0m\u001b[37m\u001b[0m \u001b[1m0s\u001b[0m 532us/step - loss: 594.7074 - root_mean_squared_error: 24.3625\n",
      "Epoch 4/20\n",
      "\u001b[1m634/634\u001b[0m \u001b[32m━━━━━━━━━━━━━━━━━━━━\u001b[0m\u001b[37m\u001b[0m \u001b[1m0s\u001b[0m 547us/step - loss: 298.7866 - root_mean_squared_error: 17.2449\n",
      "Epoch 5/20\n",
      "\u001b[1m634/634\u001b[0m \u001b[32m━━━━━━━━━━━━━━━━━━━━\u001b[0m\u001b[37m\u001b[0m \u001b[1m0s\u001b[0m 572us/step - loss: 103.8710 - root_mean_squared_error: 10.1546\n",
      "Epoch 6/20\n",
      "\u001b[1m634/634\u001b[0m \u001b[32m━━━━━━━━━━━━━━━━━━━━\u001b[0m\u001b[37m\u001b[0m \u001b[1m0s\u001b[0m 558us/step - loss: 22.8040 - root_mean_squared_error: 4.7509\n",
      "Epoch 7/20\n",
      "\u001b[1m634/634\u001b[0m \u001b[32m━━━━━━━━━━━━━━━━━━━━\u001b[0m\u001b[37m\u001b[0m \u001b[1m0s\u001b[0m 559us/step - loss: 14.7243 - root_mean_squared_error: 3.8280\n",
      "Epoch 8/20\n",
      "\u001b[1m634/634\u001b[0m \u001b[32m━━━━━━━━━━━━━━━━━━━━\u001b[0m\u001b[37m\u001b[0m \u001b[1m0s\u001b[0m 554us/step - loss: 13.8790 - root_mean_squared_error: 3.7223\n",
      "Epoch 9/20\n",
      "\u001b[1m634/634\u001b[0m \u001b[32m━━━━━━━━━━━━━━━━━━━━\u001b[0m\u001b[37m\u001b[0m \u001b[1m0s\u001b[0m 546us/step - loss: 14.1668 - root_mean_squared_error: 3.7605\n",
      "Epoch 10/20\n",
      "\u001b[1m634/634\u001b[0m \u001b[32m━━━━━━━━━━━━━━━━━━━━\u001b[0m\u001b[37m\u001b[0m \u001b[1m0s\u001b[0m 558us/step - loss: 12.3846 - root_mean_squared_error: 3.5047\n",
      "Epoch 11/20\n",
      "\u001b[1m634/634\u001b[0m \u001b[32m━━━━━━━━━━━━━━━━━━━━\u001b[0m\u001b[37m\u001b[0m \u001b[1m0s\u001b[0m 547us/step - loss: 13.1902 - root_mean_squared_error: 3.6247\n",
      "Epoch 12/20\n",
      "\u001b[1m634/634\u001b[0m \u001b[32m━━━━━━━━━━━━━━━━━━━━\u001b[0m\u001b[37m\u001b[0m \u001b[1m0s\u001b[0m 562us/step - loss: 15.3275 - root_mean_squared_error: 3.9092\n",
      "Epoch 13/20\n",
      "\u001b[1m634/634\u001b[0m \u001b[32m━━━━━━━━━━━━━━━━━━━━\u001b[0m\u001b[37m\u001b[0m \u001b[1m0s\u001b[0m 548us/step - loss: 14.2079 - root_mean_squared_error: 3.7646\n",
      "Epoch 14/20\n",
      "\u001b[1m634/634\u001b[0m \u001b[32m━━━━━━━━━━━━━━━━━━━━\u001b[0m\u001b[37m\u001b[0m \u001b[1m0s\u001b[0m 545us/step - loss: 13.0918 - root_mean_squared_error: 3.6086\n",
      "Epoch 15/20\n",
      "\u001b[1m634/634\u001b[0m \u001b[32m━━━━━━━━━━━━━━━━━━━━\u001b[0m\u001b[37m\u001b[0m \u001b[1m0s\u001b[0m 542us/step - loss: 13.0200 - root_mean_squared_error: 3.5947\n",
      "Epoch 16/20\n",
      "\u001b[1m634/634\u001b[0m \u001b[32m━━━━━━━━━━━━━━━━━━━━\u001b[0m\u001b[37m\u001b[0m \u001b[1m0s\u001b[0m 545us/step - loss: 13.1020 - root_mean_squared_error: 3.6131\n",
      "Epoch 17/20\n",
      "\u001b[1m634/634\u001b[0m \u001b[32m━━━━━━━━━━━━━━━━━━━━\u001b[0m\u001b[37m\u001b[0m \u001b[1m0s\u001b[0m 543us/step - loss: 13.8292 - root_mean_squared_error: 3.7121\n",
      "Epoch 18/20\n",
      "\u001b[1m634/634\u001b[0m \u001b[32m━━━━━━━━━━━━━━━━━━━━\u001b[0m\u001b[37m\u001b[0m \u001b[1m0s\u001b[0m 536us/step - loss: 15.0922 - root_mean_squared_error: 3.8767\n",
      "Epoch 19/20\n",
      "\u001b[1m634/634\u001b[0m \u001b[32m━━━━━━━━━━━━━━━━━━━━\u001b[0m\u001b[37m\u001b[0m \u001b[1m0s\u001b[0m 545us/step - loss: 16.6897 - root_mean_squared_error: 4.0721\n",
      "Epoch 20/20\n",
      "\u001b[1m634/634\u001b[0m \u001b[32m━━━━━━━━━━━━━━━━━━━━\u001b[0m\u001b[37m\u001b[0m \u001b[1m0s\u001b[0m 556us/step - loss: 13.0236 - root_mean_squared_error: 3.5963\n",
      "\n",
      "SUCCESS: training experiment complete\n",
      "\n",
      "--------------------------------------------------------------------------------\n",
      "|                                  MODEL INFO                                  |\n",
      "--------------------------------------------------------------------------------\n",
      "Weight for feature[TRIP_MILES]: 2.291\n",
      "Bias: 4.978\n",
      "\n",
      "FARE = 2.291 * TRIP_MILES + 4.978\n",
      "\n"
     ]
    },
    {
     "data": {
      "application/vnd.plotly.v1+json": {
       "config": {
        "plotlyServerURL": "https://plot.ly"
       },
       "data": [
        {
         "hovertemplate": "TRIP_MILES=%{x}<br>FARE=%{y}<extra></extra>",
         "legendgroup": "",
         "marker": {
          "color": "#636efa",
          "symbol": "circle"
         },
         "mode": "markers",
         "name": "",
         "orientation": "v",
         "showlegend": false,
         "type": "scatter",
         "x": [
          2.48,
          9.5,
          7.88,
          1.49,
          1.4,
          11.6,
          13.89,
          20.67,
          1.44,
          2.8,
          9,
          14.51,
          2.95,
          5.58,
          2.15,
          17,
          11.27,
          9.2,
          18.08,
          1.46,
          24.75,
          17.5,
          1.32,
          13.86,
          6.56,
          1.36,
          7.4,
          14.82,
          10.61,
          0.92,
          17.7,
          14.89,
          3.7,
          8.35,
          10.93,
          4.58,
          14.12,
          18.92,
          3.1,
          3.92,
          3.4,
          6.6,
          18.07,
          11.32,
          1.15,
          0.6,
          2.15,
          1.58,
          1.2,
          0.86,
          1.98,
          1.2,
          12.56,
          51.9,
          9.8,
          17.7,
          3.63,
          13.75,
          2.27,
          1.35,
          18.52,
          4.35,
          1.52,
          1.64,
          1.33,
          0.9,
          17.87,
          15.12,
          1.98,
          0.97,
          11.4,
          17.88,
          12.36,
          0.7,
          0.89,
          8.27,
          2.74,
          3.9,
          7.79,
          3.82,
          1.4,
          20.5,
          14.1,
          10.35,
          5.05,
          1.8,
          10.06,
          2,
          8.23,
          18,
          11.83,
          3.72,
          1.2,
          9.96,
          16.58,
          1.8,
          26.2,
          18,
          0.94,
          1.1,
          17.8,
          11.2,
          0.95,
          0.78,
          0.94,
          3.5,
          2.57,
          1.72,
          1.1,
          0.81,
          15.6,
          1.7,
          6.21,
          0.87,
          4.72,
          1.58,
          18.71,
          3.69,
          12.69,
          16.83,
          2.2,
          10.5,
          1.2,
          0.53,
          33.64,
          5,
          27,
          4,
          1.1,
          10.48,
          5.06,
          13.03,
          3.2,
          1.7,
          1.18,
          1.75,
          4.4,
          0.95,
          4.69,
          11.1,
          17.57,
          10.32,
          13.8,
          3.1,
          15.1,
          15.3,
          1.89,
          1.06,
          1.52,
          3.8,
          11.22,
          15.4,
          2,
          12.11,
          2.22,
          2.05,
          8.2,
          17.7,
          1.9,
          2.23,
          2.26,
          9.1,
          15.84,
          2.57,
          17.73,
          20.1,
          14.92,
          13.47,
          0.71,
          7.9,
          6.4,
          6.5,
          11.52,
          31.21,
          11.3,
          17.38,
          0.9,
          1.31,
          1.3,
          18.09,
          12.8,
          21.92,
          2.57,
          11.33,
          5.27,
          27.51,
          7.51,
          0.52,
          28.14,
          18.04,
          2.42,
          0.82,
          8.34,
          24.2,
          1.06,
          16.63,
          18.52,
          17.8,
          16.88,
          18.02
         ],
         "xaxis": "x2",
         "y": [
          12.25,
          26,
          22.75,
          9,
          6.75,
          32.25,
          37.25,
          50.5,
          7,
          11.25,
          24.5,
          37.75,
          11.75,
          17.85,
          10.75,
          42,
          29,
          28.5,
          45.25,
          7.5,
          59.25,
          43.5,
          8,
          40.83,
          29.75,
          6.5,
          20.5,
          36.5,
          27.5,
          6,
          44,
          41,
          13.75,
          22.75,
          31.75,
          14,
          37,
          47.5,
          12.75,
          12.5,
          11,
          26,
          44.5,
          29.75,
          7.75,
          4.75,
          10.25,
          6.75,
          6.25,
          6,
          8,
          7.25,
          34.5,
          120.25,
          27.25,
          46,
          12.5,
          38,
          9.39,
          7,
          49.5,
          15.75,
          8,
          7.5,
          9,
          7,
          44,
          56,
          9.34,
          5.75,
          29.5,
          44.75,
          34.25,
          5.75,
          6.25,
          23.75,
          10.75,
          13.75,
          24,
          15.25,
          7.25,
          50.5,
          32.25,
          30,
          71,
          8.75,
          27,
          8.5,
          23,
          44.25,
          34.25,
          13.25,
          6.25,
          26,
          45.75,
          8.25,
          79.5,
          44,
          9,
          6.25,
          44.5,
          28.75,
          6,
          5,
          6,
          12,
          9.5,
          9,
          6.5,
          5.5,
          41.75,
          8,
          19.25,
          5.75,
          14.75,
          9,
          46.25,
          11.75,
          32.75,
          44.25,
          9.25,
          27.75,
          7.75,
          5,
          81.5,
          16.75,
          65,
          13.75,
          6.5,
          29.5,
          15.56,
          55.14,
          13,
          8.75,
          6,
          8.5,
          15.17,
          6.5,
          14.25,
          30,
          46.25,
          30.75,
          40.19,
          11.25,
          37.5,
          37.5,
          9.5,
          7.5,
          8.25,
          11.75,
          31.25,
          39.5,
          10.25,
          34,
          8.75,
          9.25,
          22,
          44.25,
          8.5,
          10,
          9.95,
          25.25,
          52.76,
          9.75,
          45,
          40.75,
          41.86,
          44.4,
          5.75,
          21.75,
          19,
          20.18,
          30.25,
          74,
          30.75,
          46.74,
          7,
          7.5,
          7,
          45.25,
          34,
          53.5,
          12.9,
          28.75,
          16.74,
          67.5,
          27.75,
          4.75,
          73.25,
          46,
          9.5,
          6.5,
          24.5,
          58,
          6,
          46,
          50,
          43.75,
          42,
          46.75
         ],
         "yaxis": "y2"
        },
        {
         "hovertemplate": "TRIP_MILES=%{x}<br>FARE_PREDICTED=%{y}<extra></extra>",
         "legendgroup": "",
         "line": {
          "color": "#ff0000",
          "dash": "solid",
          "width": 3
         },
         "marker": {
          "symbol": "circle"
         },
         "mode": "lines",
         "name": "",
         "orientation": "v",
         "showlegend": false,
         "type": "scatter",
         "x": [
          2.48,
          9.5,
          7.88,
          1.49,
          1.4,
          11.6,
          13.89,
          20.67,
          1.44,
          2.8,
          9,
          14.51,
          2.95,
          5.58,
          2.15,
          17,
          11.27,
          9.2,
          18.08,
          1.46,
          24.75,
          17.5,
          1.32,
          13.86,
          6.56,
          1.36,
          7.4,
          14.82,
          10.61,
          0.92,
          17.7,
          14.89,
          3.7,
          8.35,
          10.93,
          4.58,
          14.12,
          18.92,
          3.1,
          3.92,
          3.4,
          6.6,
          18.07,
          11.32,
          1.15,
          0.6,
          2.15,
          1.58,
          1.2,
          0.86,
          1.98,
          1.2,
          12.56,
          51.9,
          9.8,
          17.7,
          3.63,
          13.75,
          2.27,
          1.35,
          18.52,
          4.35,
          1.52,
          1.64,
          1.33,
          0.9,
          17.87,
          15.12,
          1.98,
          0.97,
          11.4,
          17.88,
          12.36,
          0.7,
          0.89,
          8.27,
          2.74,
          3.9,
          7.79,
          3.82,
          1.4,
          20.5,
          14.1,
          10.35,
          5.05,
          1.8,
          10.06,
          2,
          8.23,
          18,
          11.83,
          3.72,
          1.2,
          9.96,
          16.58,
          1.8,
          26.2,
          18,
          0.94,
          1.1,
          17.8,
          11.2,
          0.95,
          0.78,
          0.94,
          3.5,
          2.57,
          1.72,
          1.1,
          0.81,
          15.6,
          1.7,
          6.21,
          0.87,
          4.72,
          1.58,
          18.71,
          3.69,
          12.69,
          16.83,
          2.2,
          10.5,
          1.2,
          0.53,
          33.64,
          5,
          27,
          4,
          1.1,
          10.48,
          5.06,
          13.03,
          3.2,
          1.7,
          1.18,
          1.75,
          4.4,
          0.95,
          4.69,
          11.1,
          17.57,
          10.32,
          13.8,
          3.1,
          15.1,
          15.3,
          1.89,
          1.06,
          1.52,
          3.8,
          11.22,
          15.4,
          2,
          12.11,
          2.22,
          2.05,
          8.2,
          17.7,
          1.9,
          2.23,
          2.26,
          9.1,
          15.84,
          2.57,
          17.73,
          20.1,
          14.92,
          13.47,
          0.71,
          7.9,
          6.4,
          6.5,
          11.52,
          31.21,
          11.3,
          17.38,
          0.9,
          1.31,
          1.3,
          18.09,
          12.8,
          21.92,
          2.57,
          11.33,
          5.27,
          27.51,
          7.51,
          0.52,
          28.14,
          18.04,
          2.42,
          0.82,
          8.34,
          24.2,
          1.06,
          16.63,
          18.52,
          17.8,
          16.88,
          18.02
         ],
         "xaxis": "x2",
         "y": [
          10.659027481079102,
          26.739829897880554,
          23.028875494003294,
          8.391222012042999,
          8.185057878494263,
          31.550326347351074,
          36.79605818986893,
          52.32708958387375,
          8.2766863822937,
          11.39205551147461,
          25.594473600387573,
          38.21629999876022,
          11.735662400722504,
          17.760236525535582,
          9.903092324733734,
          43.92017436027527,
          30.794391191005705,
          26.052616119384766,
          46.394143962860106,
          8.322500634193421,
          61.67319697141647,
          45.06553065776825,
          8.001800870895385,
          36.727336812019345,
          20.005134868621823,
          8.093429374694825,
          21.929333448410034,
          38.92642090320587,
          29.28252087831497,
          7.085515832901001,
          45.52367317676544,
          39.08677078485489,
          13.453696846961975,
          24.105510413646698,
          30.01554890871048,
          15.469523930549622,
          37.3229220867157,
          48.31834254264832,
          12.079269289970398,
          13.957653617858886,
          12.766483068466187,
          20.096763372421265,
          46.37123683691025,
          30.908926820755006,
          7.612379729747772,
          6.352487802505493,
          9.903092324733734,
          8.597386145591736,
          7.72691535949707,
          6.948073077201843,
          9.513671183586121,
          7.72691535949707,
          33.749410438537595,
          123.86604392528534,
          27.427043676376343,
          45.52367317676544,
          13.293346965312958,
          36.47535842657089,
          10.17797783613205,
          8.070522248744965,
          47.40205750465393,
          14.94266003370285,
          8.459943389892578,
          8.734828901290893,
          8.024707996845246,
          7.039701581001282,
          45.91309431791306,
          39.61363468170166,
          9.513671183586121,
          7.200051462650299,
          31.092183828353882,
          45.936001443862914,
          33.2912679195404,
          6.581559062004089,
          7.016794455051422,
          23.92225340604782,
          11.254612755775451,
          13.911839365959167,
          22.82271136045456,
          13.72858235836029,
          8.185057878494263,
          51.937668442726135,
          37.27710783481598,
          28.686935603618622,
          16.546158850193024,
          9.101342916488647,
          28.022628951072694,
          9.55948543548584,
          23.830624902248385,
          46.21088695526123,
          32.077190244197844,
          13.499511098861694,
          7.72691535949707,
          27.793557691574097,
          42.95807507038116,
          9.101342916488647,
          64.99473023414612,
          46.21088695526123,
          7.1313300848007195,
          7.497844099998474,
          45.75274443626404,
          30.63404130935669,
          7.15423721075058,
          6.764816069602967,
          7.1313300848007195,
          12.995554327964783,
          10.865191614627838,
          8.91808590888977,
          7.497844099998474,
          6.833537447452545,
          40.71317672729492,
          8.872271656990051,
          19.20338546037674,
          6.9709802031517025,
          15.790223693847656,
          8.597386145591736,
          47.83729289770127,
          13.430789721012115,
          34.047203075885776,
          43.530753219127654,
          10.017627954483032,
          29.030542492866516,
          7.72691535949707,
          6.192137920856476,
          82.03763194084168,
          16.431623220443726,
          66.82730031013489,
          14.140910625457764,
          7.497844099998474,
          28.9847282409668,
          16.56906597614288,
          34.826045358181,
          12.308340549468994,
          8.872271656990051,
          7.681101107597351,
          8.98680728673935,
          15.057195663452148,
          7.15423721075058,
          15.721502315998078,
          30.404970049858093,
          45.22588053941727,
          28.618214225769044,
          36.58989405632019,
          12.079269289970398,
          39.56782042980194,
          40.02596294879913,
          9.307507050037383,
          7.406215596199036,
          8.459943389892578,
          13.682768106460571,
          30.67985556125641,
          40.25503420829773,
          9.55948543548584,
          32.71858977079391,
          10.063442206382753,
          9.674021065235138,
          23.761903524398804,
          45.52367317676544,
          9.330414175987244,
          10.086349332332611,
          10.15507071018219,
          25.82354485988617,
          41.262947750091556,
          10.865191614627838,
          45.59239455461502,
          51.02138340473175,
          39.15549216270447,
          35.833958899974824,
          6.604466187953949,
          23.074689745903015,
          19.638620853424072,
          19.86769211292267,
          31.367069339752195,
          76.47120033502578,
          30.863112568855286,
          44.79064514636993,
          7.039701581001282,
          7.978893744945527,
          7.9559866189956665,
          46.41705108880997,
          34.29918146133423,
          55.1904803276062,
          10.865191614627838,
          30.931833946704863,
          17.050115621089937,
          67.99556373357774,
          22.18131183385849,
          6.169230794906616,
          69.43871266841889,
          46.302515459060665,
          10.521584725379943,
          6.856444573402404,
          24.082603287696838,
          60.413305044174194,
          7.406215596199036,
          43.07261070013046,
          47.40205750465393,
          45.75274443626404,
          43.64528884887695,
          46.25670120716095
         ],
         "yaxis": "y2"
        },
        {
         "hovertemplate": "x=%{x}<br>y=%{y}<extra></extra>",
         "legendgroup": "",
         "line": {
          "color": "#ff0000",
          "dash": "solid",
          "width": 3
         },
         "marker": {
          "symbol": "circle"
         },
         "mode": "lines",
         "name": "",
         "orientation": "v",
         "showlegend": false,
         "type": "scatter",
         "x": [
          0,
          1,
          2,
          3,
          4,
          5,
          6,
          7,
          8,
          9,
          10,
          11,
          12,
          13,
          14,
          15,
          16,
          17,
          18,
          19
         ],
         "xaxis": "x",
         "y": [
          36.93518829345703,
          29.69927406311035,
          22.527162551879883,
          15.423726081848145,
          8.713042259216309,
          4.235292911529541,
          3.8195152282714844,
          3.7790889739990234,
          3.760662317276001,
          3.752147912979126,
          3.7484383583068848,
          3.7472119331359863,
          3.7463653087615967,
          3.7459168434143066,
          3.7460989952087402,
          3.7459068298339844,
          3.7457666397094727,
          3.7457613945007324,
          3.7458910942077637,
          3.745497465133667
         ],
         "yaxis": "y"
        }
       ],
       "layout": {
        "annotations": [
         {
          "font": {
           "size": 16
          },
          "showarrow": false,
          "text": "Loss Curve",
          "x": 0.225,
          "xanchor": "center",
          "xref": "paper",
          "y": 1,
          "yanchor": "bottom",
          "yref": "paper"
         },
         {
          "font": {
           "size": 16
          },
          "showarrow": false,
          "text": "Model Plot",
          "x": 0.775,
          "xanchor": "center",
          "xref": "paper",
          "y": 1,
          "yanchor": "bottom",
          "yref": "paper"
         }
        ],
        "autosize": true,
        "template": {
         "data": {
          "bar": [
           {
            "error_x": {
             "color": "#2a3f5f"
            },
            "error_y": {
             "color": "#2a3f5f"
            },
            "marker": {
             "line": {
              "color": "#E5ECF6",
              "width": 0.5
             },
             "pattern": {
              "fillmode": "overlay",
              "size": 10,
              "solidity": 0.2
             }
            },
            "type": "bar"
           }
          ],
          "barpolar": [
           {
            "marker": {
             "line": {
              "color": "#E5ECF6",
              "width": 0.5
             },
             "pattern": {
              "fillmode": "overlay",
              "size": 10,
              "solidity": 0.2
             }
            },
            "type": "barpolar"
           }
          ],
          "carpet": [
           {
            "aaxis": {
             "endlinecolor": "#2a3f5f",
             "gridcolor": "white",
             "linecolor": "white",
             "minorgridcolor": "white",
             "startlinecolor": "#2a3f5f"
            },
            "baxis": {
             "endlinecolor": "#2a3f5f",
             "gridcolor": "white",
             "linecolor": "white",
             "minorgridcolor": "white",
             "startlinecolor": "#2a3f5f"
            },
            "type": "carpet"
           }
          ],
          "choropleth": [
           {
            "colorbar": {
             "outlinewidth": 0,
             "ticks": ""
            },
            "type": "choropleth"
           }
          ],
          "contour": [
           {
            "colorbar": {
             "outlinewidth": 0,
             "ticks": ""
            },
            "colorscale": [
             [
              0,
              "#0d0887"
             ],
             [
              0.1111111111111111,
              "#46039f"
             ],
             [
              0.2222222222222222,
              "#7201a8"
             ],
             [
              0.3333333333333333,
              "#9c179e"
             ],
             [
              0.4444444444444444,
              "#bd3786"
             ],
             [
              0.5555555555555556,
              "#d8576b"
             ],
             [
              0.6666666666666666,
              "#ed7953"
             ],
             [
              0.7777777777777778,
              "#fb9f3a"
             ],
             [
              0.8888888888888888,
              "#fdca26"
             ],
             [
              1,
              "#f0f921"
             ]
            ],
            "type": "contour"
           }
          ],
          "contourcarpet": [
           {
            "colorbar": {
             "outlinewidth": 0,
             "ticks": ""
            },
            "type": "contourcarpet"
           }
          ],
          "heatmap": [
           {
            "colorbar": {
             "outlinewidth": 0,
             "ticks": ""
            },
            "colorscale": [
             [
              0,
              "#0d0887"
             ],
             [
              0.1111111111111111,
              "#46039f"
             ],
             [
              0.2222222222222222,
              "#7201a8"
             ],
             [
              0.3333333333333333,
              "#9c179e"
             ],
             [
              0.4444444444444444,
              "#bd3786"
             ],
             [
              0.5555555555555556,
              "#d8576b"
             ],
             [
              0.6666666666666666,
              "#ed7953"
             ],
             [
              0.7777777777777778,
              "#fb9f3a"
             ],
             [
              0.8888888888888888,
              "#fdca26"
             ],
             [
              1,
              "#f0f921"
             ]
            ],
            "type": "heatmap"
           }
          ],
          "heatmapgl": [
           {
            "colorbar": {
             "outlinewidth": 0,
             "ticks": ""
            },
            "colorscale": [
             [
              0,
              "#0d0887"
             ],
             [
              0.1111111111111111,
              "#46039f"
             ],
             [
              0.2222222222222222,
              "#7201a8"
             ],
             [
              0.3333333333333333,
              "#9c179e"
             ],
             [
              0.4444444444444444,
              "#bd3786"
             ],
             [
              0.5555555555555556,
              "#d8576b"
             ],
             [
              0.6666666666666666,
              "#ed7953"
             ],
             [
              0.7777777777777778,
              "#fb9f3a"
             ],
             [
              0.8888888888888888,
              "#fdca26"
             ],
             [
              1,
              "#f0f921"
             ]
            ],
            "type": "heatmapgl"
           }
          ],
          "histogram": [
           {
            "marker": {
             "pattern": {
              "fillmode": "overlay",
              "size": 10,
              "solidity": 0.2
             }
            },
            "type": "histogram"
           }
          ],
          "histogram2d": [
           {
            "colorbar": {
             "outlinewidth": 0,
             "ticks": ""
            },
            "colorscale": [
             [
              0,
              "#0d0887"
             ],
             [
              0.1111111111111111,
              "#46039f"
             ],
             [
              0.2222222222222222,
              "#7201a8"
             ],
             [
              0.3333333333333333,
              "#9c179e"
             ],
             [
              0.4444444444444444,
              "#bd3786"
             ],
             [
              0.5555555555555556,
              "#d8576b"
             ],
             [
              0.6666666666666666,
              "#ed7953"
             ],
             [
              0.7777777777777778,
              "#fb9f3a"
             ],
             [
              0.8888888888888888,
              "#fdca26"
             ],
             [
              1,
              "#f0f921"
             ]
            ],
            "type": "histogram2d"
           }
          ],
          "histogram2dcontour": [
           {
            "colorbar": {
             "outlinewidth": 0,
             "ticks": ""
            },
            "colorscale": [
             [
              0,
              "#0d0887"
             ],
             [
              0.1111111111111111,
              "#46039f"
             ],
             [
              0.2222222222222222,
              "#7201a8"
             ],
             [
              0.3333333333333333,
              "#9c179e"
             ],
             [
              0.4444444444444444,
              "#bd3786"
             ],
             [
              0.5555555555555556,
              "#d8576b"
             ],
             [
              0.6666666666666666,
              "#ed7953"
             ],
             [
              0.7777777777777778,
              "#fb9f3a"
             ],
             [
              0.8888888888888888,
              "#fdca26"
             ],
             [
              1,
              "#f0f921"
             ]
            ],
            "type": "histogram2dcontour"
           }
          ],
          "mesh3d": [
           {
            "colorbar": {
             "outlinewidth": 0,
             "ticks": ""
            },
            "type": "mesh3d"
           }
          ],
          "parcoords": [
           {
            "line": {
             "colorbar": {
              "outlinewidth": 0,
              "ticks": ""
             }
            },
            "type": "parcoords"
           }
          ],
          "pie": [
           {
            "automargin": true,
            "type": "pie"
           }
          ],
          "scatter": [
           {
            "fillpattern": {
             "fillmode": "overlay",
             "size": 10,
             "solidity": 0.2
            },
            "type": "scatter"
           }
          ],
          "scatter3d": [
           {
            "line": {
             "colorbar": {
              "outlinewidth": 0,
              "ticks": ""
             }
            },
            "marker": {
             "colorbar": {
              "outlinewidth": 0,
              "ticks": ""
             }
            },
            "type": "scatter3d"
           }
          ],
          "scattercarpet": [
           {
            "marker": {
             "colorbar": {
              "outlinewidth": 0,
              "ticks": ""
             }
            },
            "type": "scattercarpet"
           }
          ],
          "scattergeo": [
           {
            "marker": {
             "colorbar": {
              "outlinewidth": 0,
              "ticks": ""
             }
            },
            "type": "scattergeo"
           }
          ],
          "scattergl": [
           {
            "marker": {
             "colorbar": {
              "outlinewidth": 0,
              "ticks": ""
             }
            },
            "type": "scattergl"
           }
          ],
          "scattermapbox": [
           {
            "marker": {
             "colorbar": {
              "outlinewidth": 0,
              "ticks": ""
             }
            },
            "type": "scattermapbox"
           }
          ],
          "scatterpolar": [
           {
            "marker": {
             "colorbar": {
              "outlinewidth": 0,
              "ticks": ""
             }
            },
            "type": "scatterpolar"
           }
          ],
          "scatterpolargl": [
           {
            "marker": {
             "colorbar": {
              "outlinewidth": 0,
              "ticks": ""
             }
            },
            "type": "scatterpolargl"
           }
          ],
          "scatterternary": [
           {
            "marker": {
             "colorbar": {
              "outlinewidth": 0,
              "ticks": ""
             }
            },
            "type": "scatterternary"
           }
          ],
          "surface": [
           {
            "colorbar": {
             "outlinewidth": 0,
             "ticks": ""
            },
            "colorscale": [
             [
              0,
              "#0d0887"
             ],
             [
              0.1111111111111111,
              "#46039f"
             ],
             [
              0.2222222222222222,
              "#7201a8"
             ],
             [
              0.3333333333333333,
              "#9c179e"
             ],
             [
              0.4444444444444444,
              "#bd3786"
             ],
             [
              0.5555555555555556,
              "#d8576b"
             ],
             [
              0.6666666666666666,
              "#ed7953"
             ],
             [
              0.7777777777777778,
              "#fb9f3a"
             ],
             [
              0.8888888888888888,
              "#fdca26"
             ],
             [
              1,
              "#f0f921"
             ]
            ],
            "type": "surface"
           }
          ],
          "table": [
           {
            "cells": {
             "fill": {
              "color": "#EBF0F8"
             },
             "line": {
              "color": "white"
             }
            },
            "header": {
             "fill": {
              "color": "#C8D4E3"
             },
             "line": {
              "color": "white"
             }
            },
            "type": "table"
           }
          ]
         },
         "layout": {
          "annotationdefaults": {
           "arrowcolor": "#2a3f5f",
           "arrowhead": 0,
           "arrowwidth": 1
          },
          "autotypenumbers": "strict",
          "coloraxis": {
           "colorbar": {
            "outlinewidth": 0,
            "ticks": ""
           }
          },
          "colorscale": {
           "diverging": [
            [
             0,
             "#8e0152"
            ],
            [
             0.1,
             "#c51b7d"
            ],
            [
             0.2,
             "#de77ae"
            ],
            [
             0.3,
             "#f1b6da"
            ],
            [
             0.4,
             "#fde0ef"
            ],
            [
             0.5,
             "#f7f7f7"
            ],
            [
             0.6,
             "#e6f5d0"
            ],
            [
             0.7,
             "#b8e186"
            ],
            [
             0.8,
             "#7fbc41"
            ],
            [
             0.9,
             "#4d9221"
            ],
            [
             1,
             "#276419"
            ]
           ],
           "sequential": [
            [
             0,
             "#0d0887"
            ],
            [
             0.1111111111111111,
             "#46039f"
            ],
            [
             0.2222222222222222,
             "#7201a8"
            ],
            [
             0.3333333333333333,
             "#9c179e"
            ],
            [
             0.4444444444444444,
             "#bd3786"
            ],
            [
             0.5555555555555556,
             "#d8576b"
            ],
            [
             0.6666666666666666,
             "#ed7953"
            ],
            [
             0.7777777777777778,
             "#fb9f3a"
            ],
            [
             0.8888888888888888,
             "#fdca26"
            ],
            [
             1,
             "#f0f921"
            ]
           ],
           "sequentialminus": [
            [
             0,
             "#0d0887"
            ],
            [
             0.1111111111111111,
             "#46039f"
            ],
            [
             0.2222222222222222,
             "#7201a8"
            ],
            [
             0.3333333333333333,
             "#9c179e"
            ],
            [
             0.4444444444444444,
             "#bd3786"
            ],
            [
             0.5555555555555556,
             "#d8576b"
            ],
            [
             0.6666666666666666,
             "#ed7953"
            ],
            [
             0.7777777777777778,
             "#fb9f3a"
            ],
            [
             0.8888888888888888,
             "#fdca26"
            ],
            [
             1,
             "#f0f921"
            ]
           ]
          },
          "colorway": [
           "#636efa",
           "#EF553B",
           "#00cc96",
           "#ab63fa",
           "#FFA15A",
           "#19d3f3",
           "#FF6692",
           "#B6E880",
           "#FF97FF",
           "#FECB52"
          ],
          "font": {
           "color": "#2a3f5f"
          },
          "geo": {
           "bgcolor": "white",
           "lakecolor": "white",
           "landcolor": "#E5ECF6",
           "showlakes": true,
           "showland": true,
           "subunitcolor": "white"
          },
          "hoverlabel": {
           "align": "left"
          },
          "hovermode": "closest",
          "mapbox": {
           "style": "light"
          },
          "paper_bgcolor": "white",
          "plot_bgcolor": "#E5ECF6",
          "polar": {
           "angularaxis": {
            "gridcolor": "white",
            "linecolor": "white",
            "ticks": ""
           },
           "bgcolor": "#E5ECF6",
           "radialaxis": {
            "gridcolor": "white",
            "linecolor": "white",
            "ticks": ""
           }
          },
          "scene": {
           "xaxis": {
            "backgroundcolor": "#E5ECF6",
            "gridcolor": "white",
            "gridwidth": 2,
            "linecolor": "white",
            "showbackground": true,
            "ticks": "",
            "zerolinecolor": "white"
           },
           "yaxis": {
            "backgroundcolor": "#E5ECF6",
            "gridcolor": "white",
            "gridwidth": 2,
            "linecolor": "white",
            "showbackground": true,
            "ticks": "",
            "zerolinecolor": "white"
           },
           "zaxis": {
            "backgroundcolor": "#E5ECF6",
            "gridcolor": "white",
            "gridwidth": 2,
            "linecolor": "white",
            "showbackground": true,
            "ticks": "",
            "zerolinecolor": "white"
           }
          },
          "shapedefaults": {
           "line": {
            "color": "#2a3f5f"
           }
          },
          "ternary": {
           "aaxis": {
            "gridcolor": "white",
            "linecolor": "white",
            "ticks": ""
           },
           "baxis": {
            "gridcolor": "white",
            "linecolor": "white",
            "ticks": ""
           },
           "bgcolor": "#E5ECF6",
           "caxis": {
            "gridcolor": "white",
            "linecolor": "white",
            "ticks": ""
           }
          },
          "title": {
           "x": 0.05
          },
          "xaxis": {
           "automargin": true,
           "gridcolor": "white",
           "linecolor": "white",
           "ticks": "",
           "title": {
            "standoff": 15
           },
           "zerolinecolor": "white",
           "zerolinewidth": 2
          },
          "yaxis": {
           "automargin": true,
           "gridcolor": "white",
           "linecolor": "white",
           "ticks": "",
           "title": {
            "standoff": 15
           },
           "zerolinecolor": "white",
           "zerolinewidth": 2
          }
         }
        },
        "xaxis": {
         "anchor": "y",
         "autorange": true,
         "domain": [
          0,
          0.45
         ],
         "range": [
          0,
          19
         ],
         "title": {
          "text": "Epoch"
         },
         "type": "linear"
        },
        "xaxis2": {
         "anchor": "y2",
         "autorange": true,
         "domain": [
          0.55,
          1
         ],
         "range": [
          -2.9118464277045066,
          55.331846427704505
         ],
         "title": {
          "text": "TRIP_MILES"
         },
         "type": "linear"
        },
        "yaxis": {
         "anchor": "x",
         "domain": [
          0,
          1
         ],
         "range": [
          2.9963979721069336,
          36.93518829345703
         ],
         "title": {
          "text": "Root Mean Squared Error"
         },
         "type": "linear"
        },
        "yaxis2": {
         "anchor": "x2",
         "autorange": true,
         "domain": [
          0,
          1
         ],
         "range": [
          -4.656679600133447,
          130.63039779504422
         ],
         "title": {
          "text": "FARE"
         },
         "type": "linear"
        }
       }
      },
      "image/png": "[encoded data removed]",
      "text/html": [
       "<div>                            <div id=\"7cf6ce9b-8595-4086-b393-41e6a02190e1\" class=\"plotly-graph-div\" style=\"height:525px; width:100%;\"></div>            <script type=\"text/javascript\">                require([\"plotly\"], function(Plotly) {                    window.PLOTLYENV=window.PLOTLYENV || {};                                    if (document.getElementById(\"7cf6ce9b-8595-4086-b393-41e6a02190e1\")) {                    Plotly.newPlot(                        \"7cf6ce9b-8595-4086-b393-41e6a02190e1\",                        [{\"hovertemplate\":\"TRIP_MILES=%{x}\\u003cbr\\u003eFARE=%{y}\\u003cextra\\u003e\\u003c\\u002fextra\\u003e\",\"legendgroup\":\"\",\"marker\":{\"color\":\"#636efa\",\"symbol\":\"circle\"},\"mode\":\"markers\",\"name\":\"\",\"orientation\":\"v\",\"showlegend\":false,\"x\":[2.48,9.5,7.88,1.49,1.4,11.6,13.89,20.67,1.44,2.8,9.0,14.51,2.95,5.58,2.15,17.0,11.27,9.2,18.08,1.46,24.75,17.5,1.32,13.86,6.56,1.36,7.4,14.82,10.61,0.92,17.7,14.89,3.7,8.35,10.93,4.58,14.12,18.92,3.1,3.92,3.4,6.6,18.07,11.32,1.15,0.6,2.15,1.58,1.2,0.86,1.98,1.2,12.56,51.9,9.8,17.7,3.63,13.75,2.27,1.35,18.52,4.35,1.52,1.64,1.33,0.9,17.87,15.12,1.98,0.97,11.4,17.88,12.36,0.7,0.89,8.27,2.74,3.9,7.79,3.82,1.4,20.5,14.1,10.35,5.05,1.8,10.06,2.0,8.23,18.0,11.83,3.72,1.2,9.96,16.58,1.8,26.2,18.0,0.94,1.1,17.8,11.2,0.95,0.78,0.94,3.5,2.57,1.72,1.1,0.81,15.6,1.7,6.21,0.87,4.72,1.58,18.71,3.69,12.69,16.83,2.2,10.5,1.2,0.53,33.64,5.0,27.0,4.0,1.1,10.48,5.06,13.03,3.2,1.7,1.18,1.75,4.4,0.95,4.69,11.1,17.57,10.32,13.8,3.1,15.1,15.3,1.89,1.06,1.52,3.8,11.22,15.4,2.0,12.11,2.22,2.05,8.2,17.7,1.9,2.23,2.26,9.1,15.84,2.57,17.73,20.1,14.92,13.47,0.71,7.9,6.4,6.5,11.52,31.21,11.3,17.38,0.9,1.31,1.3,18.09,12.8,21.92,2.57,11.33,5.27,27.51,7.51,0.52,28.14,18.04,2.42,0.82,8.34,24.2,1.06,16.63,18.52,17.8,16.88,18.02],\"xaxis\":\"x2\",\"y\":[12.25,26.0,22.75,9.0,6.75,32.25,37.25,50.5,7.0,11.25,24.5,37.75,11.75,17.85,10.75,42.0,29.0,28.5,45.25,7.5,59.25,43.5,8.0,40.83,29.75,6.5,20.5,36.5,27.5,6.0,44.0,41.0,13.75,22.75,31.75,14.0,37.0,47.5,12.75,12.5,11.0,26.0,44.5,29.75,7.75,4.75,10.25,6.75,6.25,6.0,8.0,7.25,34.5,120.25,27.25,46.0,12.5,38.0,9.39,7.0,49.5,15.75,8.0,7.5,9.0,7.0,44.0,56.0,9.34,5.75,29.5,44.75,34.25,5.75,6.25,23.75,10.75,13.75,24.0,15.25,7.25,50.5,32.25,30.0,71.0,8.75,27.0,8.5,23.0,44.25,34.25,13.25,6.25,26.0,45.75,8.25,79.5,44.0,9.0,6.25,44.5,28.75,6.0,5.0,6.0,12.0,9.5,9.0,6.5,5.5,41.75,8.0,19.25,5.75,14.75,9.0,46.25,11.75,32.75,44.25,9.25,27.75,7.75,5.0,81.5,16.75,65.0,13.75,6.5,29.5,15.56,55.14,13.0,8.75,6.0,8.5,15.17,6.5,14.25,30.0,46.25,30.75,40.19,11.25,37.5,37.5,9.5,7.5,8.25,11.75,31.25,39.5,10.25,34.0,8.75,9.25,22.0,44.25,8.5,10.0,9.95,25.25,52.76,9.75,45.0,40.75,41.86,44.4,5.75,21.75,19.0,20.18,30.25,74.0,30.75,46.74,7.0,7.5,7.0,45.25,34.0,53.5,12.9,28.75,16.74,67.5,27.75,4.75,73.25,46.0,9.5,6.5,24.5,58.0,6.0,46.0,50.0,43.75,42.0,46.75],\"yaxis\":\"y2\",\"type\":\"scatter\"},{\"hovertemplate\":\"TRIP_MILES=%{x}\\u003cbr\\u003eFARE_PREDICTED=%{y}\\u003cextra\\u003e\\u003c\\u002fextra\\u003e\",\"legendgroup\":\"\",\"line\":{\"color\":\"#ff0000\",\"dash\":\"solid\",\"width\":3},\"marker\":{\"symbol\":\"circle\"},\"mode\":\"lines\",\"name\":\"\",\"orientation\":\"v\",\"showlegend\":false,\"x\":[2.48,9.5,7.88,1.49,1.4,11.6,13.89,20.67,1.44,2.8,9.0,14.51,2.95,5.58,2.15,17.0,11.27,9.2,18.08,1.46,24.75,17.5,1.32,13.86,6.56,1.36,7.4,14.82,10.61,0.92,17.7,14.89,3.7,8.35,10.93,4.58,14.12,18.92,3.1,3.92,3.4,6.6,18.07,11.32,1.15,0.6,2.15,1.58,1.2,0.86,1.98,1.2,12.56,51.9,9.8,17.7,3.63,13.75,2.27,1.35,18.52,4.35,1.52,1.64,1.33,0.9,17.87,15.12,1.98,0.97,11.4,17.88,12.36,0.7,0.89,8.27,2.74,3.9,7.79,3.82,1.4,20.5,14.1,10.35,5.05,1.8,10.06,2.0,8.23,18.0,11.83,3.72,1.2,9.96,16.58,1.8,26.2,18.0,0.94,1.1,17.8,11.2,0.95,0.78,0.94,3.5,2.57,1.72,1.1,0.81,15.6,1.7,6.21,0.87,4.72,1.58,18.71,3.69,12.69,16.83,2.2,10.5,1.2,0.53,33.64,5.0,27.0,4.0,1.1,10.48,5.06,13.03,3.2,1.7,1.18,1.75,4.4,0.95,4.69,11.1,17.57,10.32,13.8,3.1,15.1,15.3,1.89,1.06,1.52,3.8,11.22,15.4,2.0,12.11,2.22,2.05,8.2,17.7,1.9,2.23,2.26,9.1,15.84,2.57,17.73,20.1,14.92,13.47,0.71,7.9,6.4,6.5,11.52,31.21,11.3,17.38,0.9,1.31,1.3,18.09,12.8,21.92,2.57,11.33,5.27,27.51,7.51,0.52,28.14,18.04,2.42,0.82,8.34,24.2,1.06,16.63,18.52,17.8,16.88,18.02],\"xaxis\":\"x2\",\"y\":[10.659027481079102,26.739829897880554,23.028875494003294,8.391222012042999,8.185057878494263,31.550326347351074,36.79605818986893,52.32708958387375,8.2766863822937,11.39205551147461,25.594473600387573,38.21629999876022,11.735662400722504,17.760236525535582,9.903092324733734,43.92017436027527,30.794391191005705,26.052616119384766,46.394143962860106,8.322500634193421,61.67319697141647,45.06553065776825,8.001800870895385,36.727336812019345,20.005134868621823,8.093429374694825,21.929333448410034,38.92642090320587,29.28252087831497,7.085515832901001,45.52367317676544,39.08677078485489,13.453696846961975,24.105510413646698,30.01554890871048,15.469523930549622,37.3229220867157,48.31834254264832,12.079269289970398,13.957653617858886,12.766483068466187,20.096763372421265,46.37123683691025,30.908926820755006,7.612379729747772,6.352487802505493,9.903092324733734,8.597386145591736,7.72691535949707,6.948073077201843,9.513671183586121,7.72691535949707,33.749410438537595,123.86604392528534,27.427043676376343,45.52367317676544,13.293346965312958,36.47535842657089,10.17797783613205,8.070522248744965,47.40205750465393,14.94266003370285,8.459943389892578,8.734828901290893,8.024707996845246,7.039701581001282,45.91309431791306,39.61363468170166,9.513671183586121,7.200051462650299,31.092183828353882,45.936001443862914,33.2912679195404,6.581559062004089,7.016794455051422,23.92225340604782,11.254612755775451,13.911839365959167,22.82271136045456,13.72858235836029,8.185057878494263,51.937668442726135,37.27710783481598,28.686935603618622,16.546158850193024,9.101342916488647,28.022628951072694,9.55948543548584,23.830624902248385,46.21088695526123,32.077190244197844,13.499511098861694,7.72691535949707,27.793557691574097,42.95807507038116,9.101342916488647,64.99473023414612,46.21088695526123,7.1313300848007195,7.497844099998474,45.75274443626404,30.63404130935669,7.15423721075058,6.764816069602967,7.1313300848007195,12.995554327964783,10.865191614627838,8.91808590888977,7.497844099998474,6.833537447452545,40.71317672729492,8.872271656990051,19.20338546037674,6.9709802031517025,15.790223693847656,8.597386145591736,47.83729289770127,13.430789721012115,34.047203075885776,43.530753219127654,10.017627954483032,29.030542492866516,7.72691535949707,6.192137920856476,82.03763194084168,16.431623220443726,66.82730031013489,14.140910625457764,7.497844099998474,28.9847282409668,16.56906597614288,34.826045358181,12.308340549468994,8.872271656990051,7.681101107597351,8.98680728673935,15.057195663452148,7.15423721075058,15.721502315998078,30.404970049858093,45.22588053941727,28.618214225769044,36.58989405632019,12.079269289970398,39.56782042980194,40.02596294879913,9.307507050037383,7.406215596199036,8.459943389892578,13.682768106460571,30.67985556125641,40.25503420829773,9.55948543548584,32.71858977079391,10.063442206382753,9.674021065235138,23.761903524398804,45.52367317676544,9.330414175987244,10.086349332332611,10.15507071018219,25.82354485988617,41.262947750091556,10.865191614627838,45.59239455461502,51.02138340473175,39.15549216270447,35.833958899974824,6.604466187953949,23.074689745903015,19.638620853424072,19.86769211292267,31.367069339752195,76.47120033502578,30.863112568855286,44.79064514636993,7.039701581001282,7.978893744945527,7.9559866189956665,46.41705108880997,34.29918146133423,55.1904803276062,10.865191614627838,30.931833946704863,17.050115621089937,67.99556373357774,22.18131183385849,6.169230794906616,69.43871266841889,46.302515459060665,10.521584725379943,6.856444573402404,24.082603287696838,60.413305044174194,7.406215596199036,43.07261070013046,47.40205750465393,45.75274443626404,43.64528884887695,46.25670120716095],\"yaxis\":\"y2\",\"type\":\"scatter\"},{\"hovertemplate\":\"x=%{x}\\u003cbr\\u003ey=%{y}\\u003cextra\\u003e\\u003c\\u002fextra\\u003e\",\"legendgroup\":\"\",\"line\":{\"color\":\"#ff0000\",\"dash\":\"solid\",\"width\":3},\"marker\":{\"symbol\":\"circle\"},\"mode\":\"lines\",\"name\":\"\",\"orientation\":\"v\",\"showlegend\":false,\"x\":[0,1,2,3,4,5,6,7,8,9,10,11,12,13,14,15,16,17,18,19],\"xaxis\":\"x\",\"y\":[36.93518829345703,29.69927406311035,22.527162551879883,15.423726081848145,8.713042259216309,4.235292911529541,3.8195152282714844,3.7790889739990234,3.760662317276001,3.752147912979126,3.7484383583068848,3.7472119331359863,3.7463653087615967,3.7459168434143066,3.7460989952087402,3.7459068298339844,3.7457666397094727,3.7457613945007324,3.7458910942077637,3.745497465133667],\"yaxis\":\"y\",\"type\":\"scatter\"}],                        {\"template\":{\"data\":{\"histogram2dcontour\":[{\"type\":\"histogram2dcontour\",\"colorbar\":{\"outlinewidth\":0,\"ticks\":\"\"},\"colorscale\":[[0.0,\"#0d0887\"],[0.1111111111111111,\"#46039f\"],[0.2222222222222222,\"#7201a8\"],[0.3333333333333333,\"#9c179e\"],[0.4444444444444444,\"#bd3786\"],[0.5555555555555556,\"#d8576b\"],[0.6666666666666666,\"#ed7953\"],[0.7777777777777778,\"#fb9f3a\"],[0.8888888888888888,\"#fdca26\"],[1.0,\"#f0f921\"]]}],\"choropleth\":[{\"type\":\"choropleth\",\"colorbar\":{\"outlinewidth\":0,\"ticks\":\"\"}}],\"histogram2d\":[{\"type\":\"histogram2d\",\"colorbar\":{\"outlinewidth\":0,\"ticks\":\"\"},\"colorscale\":[[0.0,\"#0d0887\"],[0.1111111111111111,\"#46039f\"],[0.2222222222222222,\"#7201a8\"],[0.3333333333333333,\"#9c179e\"],[0.4444444444444444,\"#bd3786\"],[0.5555555555555556,\"#d8576b\"],[0.6666666666666666,\"#ed7953\"],[0.7777777777777778,\"#fb9f3a\"],[0.8888888888888888,\"#fdca26\"],[1.0,\"#f0f921\"]]}],\"heatmap\":[{\"type\":\"heatmap\",\"colorbar\":{\"outlinewidth\":0,\"ticks\":\"\"},\"colorscale\":[[0.0,\"#0d0887\"],[0.1111111111111111,\"#46039f\"],[0.2222222222222222,\"#7201a8\"],[0.3333333333333333,\"#9c179e\"],[0.4444444444444444,\"#bd3786\"],[0.5555555555555556,\"#d8576b\"],[0.6666666666666666,\"#ed7953\"],[0.7777777777777778,\"#fb9f3a\"],[0.8888888888888888,\"#fdca26\"],[1.0,\"#f0f921\"]]}],\"heatmapgl\":[{\"type\":\"heatmapgl\",\"colorbar\":{\"outlinewidth\":0,\"ticks\":\"\"},\"colorscale\":[[0.0,\"#0d0887\"],[0.1111111111111111,\"#46039f\"],[0.2222222222222222,\"#7201a8\"],[0.3333333333333333,\"#9c179e\"],[0.4444444444444444,\"#bd3786\"],[0.5555555555555556,\"#d8576b\"],[0.6666666666666666,\"#ed7953\"],[0.7777777777777778,\"#fb9f3a\"],[0.8888888888888888,\"#fdca26\"],[1.0,\"#f0f921\"]]}],\"contourcarpet\":[{\"type\":\"contourcarpet\",\"colorbar\":{\"outlinewidth\":0,\"ticks\":\"\"}}],\"contour\":[{\"type\":\"contour\",\"colorbar\":{\"outlinewidth\":0,\"ticks\":\"\"},\"colorscale\":[[0.0,\"#0d0887\"],[0.1111111111111111,\"#46039f\"],[0.2222222222222222,\"#7201a8\"],[0.3333333333333333,\"#9c179e\"],[0.4444444444444444,\"#bd3786\"],[0.5555555555555556,\"#d8576b\"],[0.6666666666666666,\"#ed7953\"],[0.7777777777777778,\"#fb9f3a\"],[0.8888888888888888,\"#fdca26\"],[1.0,\"#f0f921\"]]}],\"surface\":[{\"type\":\"surface\",\"colorbar\":{\"outlinewidth\":0,\"ticks\":\"\"},\"colorscale\":[[0.0,\"#0d0887\"],[0.1111111111111111,\"#46039f\"],[0.2222222222222222,\"#7201a8\"],[0.3333333333333333,\"#9c179e\"],[0.4444444444444444,\"#bd3786\"],[0.5555555555555556,\"#d8576b\"],[0.6666666666666666,\"#ed7953\"],[0.7777777777777778,\"#fb9f3a\"],[0.8888888888888888,\"#fdca26\"],[1.0,\"#f0f921\"]]}],\"mesh3d\":[{\"type\":\"mesh3d\",\"colorbar\":{\"outlinewidth\":0,\"ticks\":\"\"}}],\"scatter\":[{\"fillpattern\":{\"fillmode\":\"overlay\",\"size\":10,\"solidity\":0.2},\"type\":\"scatter\"}],\"parcoords\":[{\"type\":\"parcoords\",\"line\":{\"colorbar\":{\"outlinewidth\":0,\"ticks\":\"\"}}}],\"scatterpolargl\":[{\"type\":\"scatterpolargl\",\"marker\":{\"colorbar\":{\"outlinewidth\":0,\"ticks\":\"\"}}}],\"bar\":[{\"error_x\":{\"color\":\"#2a3f5f\"},\"error_y\":{\"color\":\"#2a3f5f\"},\"marker\":{\"line\":{\"color\":\"#E5ECF6\",\"width\":0.5},\"pattern\":{\"fillmode\":\"overlay\",\"size\":10,\"solidity\":0.2}},\"type\":\"bar\"}],\"scattergeo\":[{\"type\":\"scattergeo\",\"marker\":{\"colorbar\":{\"outlinewidth\":0,\"ticks\":\"\"}}}],\"scatterpolar\":[{\"type\":\"scatterpolar\",\"marker\":{\"colorbar\":{\"outlinewidth\":0,\"ticks\":\"\"}}}],\"histogram\":[{\"marker\":{\"pattern\":{\"fillmode\":\"overlay\",\"size\":10,\"solidity\":0.2}},\"type\":\"histogram\"}],\"scattergl\":[{\"type\":\"scattergl\",\"marker\":{\"colorbar\":{\"outlinewidth\":0,\"ticks\":\"\"}}}],\"scatter3d\":[{\"type\":\"scatter3d\",\"line\":{\"colorbar\":{\"outlinewidth\":0,\"ticks\":\"\"}},\"marker\":{\"colorbar\":{\"outlinewidth\":0,\"ticks\":\"\"}}}],\"scattermapbox\":[{\"type\":\"scattermapbox\",\"marker\":{\"colorbar\":{\"outlinewidth\":0,\"ticks\":\"\"}}}],\"scatterternary\":[{\"type\":\"scatterternary\",\"marker\":{\"colorbar\":{\"outlinewidth\":0,\"ticks\":\"\"}}}],\"scattercarpet\":[{\"type\":\"scattercarpet\",\"marker\":{\"colorbar\":{\"outlinewidth\":0,\"ticks\":\"\"}}}],\"carpet\":[{\"aaxis\":{\"endlinecolor\":\"#2a3f5f\",\"gridcolor\":\"white\",\"linecolor\":\"white\",\"minorgridcolor\":\"white\",\"startlinecolor\":\"#2a3f5f\"},\"baxis\":{\"endlinecolor\":\"#2a3f5f\",\"gridcolor\":\"white\",\"linecolor\":\"white\",\"minorgridcolor\":\"white\",\"startlinecolor\":\"#2a3f5f\"},\"type\":\"carpet\"}],\"table\":[{\"cells\":{\"fill\":{\"color\":\"#EBF0F8\"},\"line\":{\"color\":\"white\"}},\"header\":{\"fill\":{\"color\":\"#C8D4E3\"},\"line\":{\"color\":\"white\"}},\"type\":\"table\"}],\"barpolar\":[{\"marker\":{\"line\":{\"color\":\"#E5ECF6\",\"width\":0.5},\"pattern\":{\"fillmode\":\"overlay\",\"size\":10,\"solidity\":0.2}},\"type\":\"barpolar\"}],\"pie\":[{\"automargin\":true,\"type\":\"pie\"}]},\"layout\":{\"autotypenumbers\":\"strict\",\"colorway\":[\"#636efa\",\"#EF553B\",\"#00cc96\",\"#ab63fa\",\"#FFA15A\",\"#19d3f3\",\"#FF6692\",\"#B6E880\",\"#FF97FF\",\"#FECB52\"],\"font\":{\"color\":\"#2a3f5f\"},\"hovermode\":\"closest\",\"hoverlabel\":{\"align\":\"left\"},\"paper_bgcolor\":\"white\",\"plot_bgcolor\":\"#E5ECF6\",\"polar\":{\"bgcolor\":\"#E5ECF6\",\"angularaxis\":{\"gridcolor\":\"white\",\"linecolor\":\"white\",\"ticks\":\"\"},\"radialaxis\":{\"gridcolor\":\"white\",\"linecolor\":\"white\",\"ticks\":\"\"}},\"ternary\":{\"bgcolor\":\"#E5ECF6\",\"aaxis\":{\"gridcolor\":\"white\",\"linecolor\":\"white\",\"ticks\":\"\"},\"baxis\":{\"gridcolor\":\"white\",\"linecolor\":\"white\",\"ticks\":\"\"},\"caxis\":{\"gridcolor\":\"white\",\"linecolor\":\"white\",\"ticks\":\"\"}},\"coloraxis\":{\"colorbar\":{\"outlinewidth\":0,\"ticks\":\"\"}},\"colorscale\":{\"sequential\":[[0.0,\"#0d0887\"],[0.1111111111111111,\"#46039f\"],[0.2222222222222222,\"#7201a8\"],[0.3333333333333333,\"#9c179e\"],[0.4444444444444444,\"#bd3786\"],[0.5555555555555556,\"#d8576b\"],[0.6666666666666666,\"#ed7953\"],[0.7777777777777778,\"#fb9f3a\"],[0.8888888888888888,\"#fdca26\"],[1.0,\"#f0f921\"]],\"sequentialminus\":[[0.0,\"#0d0887\"],[0.1111111111111111,\"#46039f\"],[0.2222222222222222,\"#7201a8\"],[0.3333333333333333,\"#9c179e\"],[0.4444444444444444,\"#bd3786\"],[0.5555555555555556,\"#d8576b\"],[0.6666666666666666,\"#ed7953\"],[0.7777777777777778,\"#fb9f3a\"],[0.8888888888888888,\"#fdca26\"],[1.0,\"#f0f921\"]],\"diverging\":[[0,\"#8e0152\"],[0.1,\"#c51b7d\"],[0.2,\"#de77ae\"],[0.3,\"#f1b6da\"],[0.4,\"#fde0ef\"],[0.5,\"#f7f7f7\"],[0.6,\"#e6f5d0\"],[0.7,\"#b8e186\"],[0.8,\"#7fbc41\"],[0.9,\"#4d9221\"],[1,\"#276419\"]]},\"xaxis\":{\"gridcolor\":\"white\",\"linecolor\":\"white\",\"ticks\":\"\",\"title\":{\"standoff\":15},\"zerolinecolor\":\"white\",\"automargin\":true,\"zerolinewidth\":2},\"yaxis\":{\"gridcolor\":\"white\",\"linecolor\":\"white\",\"ticks\":\"\",\"title\":{\"standoff\":15},\"zerolinecolor\":\"white\",\"automargin\":true,\"zerolinewidth\":2},\"scene\":{\"xaxis\":{\"backgroundcolor\":\"#E5ECF6\",\"gridcolor\":\"white\",\"linecolor\":\"white\",\"showbackground\":true,\"ticks\":\"\",\"zerolinecolor\":\"white\",\"gridwidth\":2},\"yaxis\":{\"backgroundcolor\":\"#E5ECF6\",\"gridcolor\":\"white\",\"linecolor\":\"white\",\"showbackground\":true,\"ticks\":\"\",\"zerolinecolor\":\"white\",\"gridwidth\":2},\"zaxis\":{\"backgroundcolor\":\"#E5ECF6\",\"gridcolor\":\"white\",\"linecolor\":\"white\",\"showbackground\":true,\"ticks\":\"\",\"zerolinecolor\":\"white\",\"gridwidth\":2}},\"shapedefaults\":{\"line\":{\"color\":\"#2a3f5f\"}},\"annotationdefaults\":{\"arrowcolor\":\"#2a3f5f\",\"arrowhead\":0,\"arrowwidth\":1},\"geo\":{\"bgcolor\":\"white\",\"landcolor\":\"#E5ECF6\",\"subunitcolor\":\"white\",\"showland\":true,\"showlakes\":true,\"lakecolor\":\"white\"},\"title\":{\"x\":0.05},\"mapbox\":{\"style\":\"light\"}}},\"xaxis\":{\"anchor\":\"y\",\"domain\":[0.0,0.45],\"title\":{\"text\":\"Epoch\"}},\"yaxis\":{\"anchor\":\"x\",\"domain\":[0.0,1.0],\"title\":{\"text\":\"Root Mean Squared Error\"},\"range\":[2.9963979721069336,36.93518829345703]},\"xaxis2\":{\"anchor\":\"y2\",\"domain\":[0.55,1.0],\"title\":{\"text\":\"TRIP_MILES\"}},\"yaxis2\":{\"anchor\":\"x2\",\"domain\":[0.0,1.0],\"title\":{\"text\":\"FARE\"}},\"annotations\":[{\"font\":{\"size\":16},\"showarrow\":false,\"text\":\"Loss Curve\",\"x\":0.225,\"xanchor\":\"center\",\"xref\":\"paper\",\"y\":1.0,\"yanchor\":\"bottom\",\"yref\":\"paper\"},{\"font\":{\"size\":16},\"showarrow\":false,\"text\":\"Model Plot\",\"x\":0.775,\"xanchor\":\"center\",\"xref\":\"paper\",\"y\":1.0,\"yanchor\":\"bottom\",\"yref\":\"paper\"}]},                        {\"responsive\": true}                    ).then(function(){\n",
       "                            \n",
       "var gd = document.getElementById('7cf6ce9b-8595-4086-b393-41e6a02190e1');\n",
       "var x = new MutationObserver(function (mutations, observer) {{\n",
       "        var display = window.getComputedStyle(gd).display;\n",
       "        if (!display || display === 'none') {{\n",
       "            console.log([gd, 'removed!']);\n",
       "            Plotly.purge(gd);\n",
       "            observer.disconnect();\n",
       "        }}\n",
       "}});\n",
       "\n",
       "// Listen for the removal of the full notebook cells\n",
       "var notebookContainer = gd.closest('#notebook-container');\n",
       "if (notebookContainer) {{\n",
       "    x.observe(notebookContainer, {childList: true});\n",
       "}}\n",
       "\n",
       "// Listen for the clearing of the current output cell\n",
       "var outputEl = gd.closest('.output');\n",
       "if (outputEl) {{\n",
       "    x.observe(outputEl, {childList: true});\n",
       "}}\n",
       "\n",
       "                        })                };                });            </script>        </div>"
      ]
     },
     "metadata": {},
     "output_type": "display_data"
    },
    {
     "name": "stdout",
     "output_type": "stream",
     "text": [
      "INFO: starting training experiment with features=['TRIP_MILES', 'TRIP_MINUTES'] and label=FARE\n",
      "\n",
      "Epoch 1/20\n",
      "\u001b[1m  1/634\u001b[0m \u001b[37m━━━━━━━━━━━━━━━━━━━━\u001b[0m \u001b[1m1:54\u001b[0m 181ms/step - loss: 1535.3243 - root_mean_squared_error: 39.1832"
     ]
    },
    {
     "name": "stderr",
     "output_type": "stream",
     "text": [
      "C:\\Users\\ADMIN\\AppData\\Local\\Temp\\ipykernel_12740\\4136931968.py:26: SettingWithCopyWarning:\n",
      "\n",
      "\n",
      "A value is trying to be set on a copy of a slice from a DataFrame.\n",
      "Try using .loc[row_indexer,col_indexer] = value instead\n",
      "\n",
      "See the caveats in the documentation: https://pandas.pydata.org/pandas-docs/stable/user_guide/indexing.html#returning-a-view-versus-a-copy\n",
      "\n"
     ]
    },
    {
     "name": "stdout",
     "output_type": "stream",
     "text": [
      "\u001b[1m634/634\u001b[0m \u001b[32m━━━━━━━━━━━━━━━━━━━━\u001b[0m\u001b[37m\u001b[0m \u001b[1m1s\u001b[0m 553us/step - loss: 839.6369 - root_mean_squared_error: 28.7874\n",
      "Epoch 2/20\n",
      "\u001b[1m634/634\u001b[0m \u001b[32m━━━━━━━━━━━━━━━━━━━━\u001b[0m\u001b[37m\u001b[0m \u001b[1m0s\u001b[0m 543us/step - loss: 59.3276 - root_mean_squared_error: 7.5347\n",
      "Epoch 3/20\n",
      "\u001b[1m634/634\u001b[0m \u001b[32m━━━━━━━━━━━━━━━━━━━━\u001b[0m\u001b[37m\u001b[0m \u001b[1m0s\u001b[0m 556us/step - loss: 15.6696 - root_mean_squared_error: 3.9476\n",
      "Epoch 4/20\n",
      "\u001b[1m634/634\u001b[0m \u001b[32m━━━━━━━━━━━━━━━━━━━━\u001b[0m\u001b[37m\u001b[0m \u001b[1m0s\u001b[0m 559us/step - loss: 14.7930 - root_mean_squared_error: 3.8345\n",
      "Epoch 5/20\n",
      "\u001b[1m634/634\u001b[0m \u001b[32m━━━━━━━━━━━━━━━━━━━━\u001b[0m\u001b[37m\u001b[0m \u001b[1m0s\u001b[0m 561us/step - loss: 13.6128 - root_mean_squared_error: 3.6814\n",
      "Epoch 6/20\n",
      "\u001b[1m634/634\u001b[0m \u001b[32m━━━━━━━━━━━━━━━━━━━━\u001b[0m\u001b[37m\u001b[0m \u001b[1m0s\u001b[0m 556us/step - loss: 13.8798 - root_mean_squared_error: 3.6869\n",
      "Epoch 7/20\n",
      "\u001b[1m634/634\u001b[0m \u001b[32m━━━━━━━━━━━━━━━━━━━━\u001b[0m\u001b[37m\u001b[0m \u001b[1m0s\u001b[0m 548us/step - loss: 12.2359 - root_mean_squared_error: 3.4936\n",
      "Epoch 8/20\n",
      "\u001b[1m634/634\u001b[0m \u001b[32m━━━━━━━━━━━━━━━━━━━━\u001b[0m\u001b[37m\u001b[0m \u001b[1m0s\u001b[0m 553us/step - loss: 12.3234 - root_mean_squared_error: 3.5019\n",
      "Epoch 9/20\n",
      "\u001b[1m634/634\u001b[0m \u001b[32m━━━━━━━━━━━━━━━━━━━━\u001b[0m\u001b[37m\u001b[0m \u001b[1m0s\u001b[0m 551us/step - loss: 12.0888 - root_mean_squared_error: 3.4722\n",
      "Epoch 10/20\n",
      "\u001b[1m634/634\u001b[0m \u001b[32m━━━━━━━━━━━━━━━━━━━━\u001b[0m\u001b[37m\u001b[0m \u001b[1m0s\u001b[0m 555us/step - loss: 11.5083 - root_mean_squared_error: 3.3805\n",
      "Epoch 11/20\n",
      "\u001b[1m634/634\u001b[0m \u001b[32m━━━━━━━━━━━━━━━━━━━━\u001b[0m\u001b[37m\u001b[0m \u001b[1m0s\u001b[0m 558us/step - loss: 12.6844 - root_mean_squared_error: 3.5518\n",
      "Epoch 12/20\n",
      "\u001b[1m634/634\u001b[0m \u001b[32m━━━━━━━━━━━━━━━━━━━━\u001b[0m\u001b[37m\u001b[0m \u001b[1m0s\u001b[0m 543us/step - loss: 11.7227 - root_mean_squared_error: 3.4074\n",
      "Epoch 13/20\n",
      "\u001b[1m634/634\u001b[0m \u001b[32m━━━━━━━━━━━━━━━━━━━━\u001b[0m\u001b[37m\u001b[0m \u001b[1m0s\u001b[0m 551us/step - loss: 12.1914 - root_mean_squared_error: 3.4853\n",
      "Epoch 14/20\n",
      "\u001b[1m634/634\u001b[0m \u001b[32m━━━━━━━━━━━━━━━━━━━━\u001b[0m\u001b[37m\u001b[0m \u001b[1m0s\u001b[0m 549us/step - loss: 11.6099 - root_mean_squared_error: 3.4002\n",
      "Epoch 15/20\n",
      "\u001b[1m634/634\u001b[0m \u001b[32m━━━━━━━━━━━━━━━━━━━━\u001b[0m\u001b[37m\u001b[0m \u001b[1m0s\u001b[0m 553us/step - loss: 12.1937 - root_mean_squared_error: 3.4834\n",
      "Epoch 16/20\n",
      "\u001b[1m634/634\u001b[0m \u001b[32m━━━━━━━━━━━━━━━━━━━━\u001b[0m\u001b[37m\u001b[0m \u001b[1m0s\u001b[0m 550us/step - loss: 12.3016 - root_mean_squared_error: 3.4997\n",
      "Epoch 17/20\n",
      "\u001b[1m634/634\u001b[0m \u001b[32m━━━━━━━━━━━━━━━━━━━━\u001b[0m\u001b[37m\u001b[0m \u001b[1m0s\u001b[0m 553us/step - loss: 13.2304 - root_mean_squared_error: 3.6314\n",
      "Epoch 18/20\n",
      "\u001b[1m634/634\u001b[0m \u001b[32m━━━━━━━━━━━━━━━━━━━━\u001b[0m\u001b[37m\u001b[0m \u001b[1m0s\u001b[0m 565us/step - loss: 11.3602 - root_mean_squared_error: 3.3600\n",
      "Epoch 19/20\n",
      "\u001b[1m634/634\u001b[0m \u001b[32m━━━━━━━━━━━━━━━━━━━━\u001b[0m\u001b[37m\u001b[0m \u001b[1m0s\u001b[0m 548us/step - loss: 12.6480 - root_mean_squared_error: 3.5457\n",
      "Epoch 20/20\n",
      "\u001b[1m634/634\u001b[0m \u001b[32m━━━━━━━━━━━━━━━━━━━━\u001b[0m\u001b[37m\u001b[0m \u001b[1m0s\u001b[0m 570us/step - loss: 11.4334 - root_mean_squared_error: 3.3737\n",
      "\n",
      "SUCCESS: training experiment complete\n",
      "\n",
      "--------------------------------------------------------------------------------\n",
      "|                                  MODEL INFO                                  |\n",
      "--------------------------------------------------------------------------------\n",
      "Weight for feature[TRIP_MILES]: 2.027\n",
      "Weight for feature[TRIP_MINUTES]: 0.148\n",
      "Bias: 3.825\n",
      "\n",
      "FARE = 2.027 * TRIP_MILES + 0.148 * TRIP_MINUTES + 3.825\n",
      "\n"
     ]
    },
    {
     "data": {
      "application/vnd.plotly.v1+json": {
       "config": {
        "plotlyServerURL": "https://plot.ly"
       },
       "data": [
        {
         "hovertemplate": "TRIP_MILES=%{x}<br>TRIP_MINUTES=%{y}<br>FARE=%{z}<extra></extra>",
         "legendgroup": "",
         "marker": {
          "color": "#636efa",
          "symbol": "circle"
         },
         "mode": "markers",
         "name": "",
         "scene": "scene",
         "showlegend": false,
         "type": "scatter3d",
         "x": [
          0.84,
          1.62,
          12.69,
          0.64,
          16.67,
          18.21,
          17.46,
          18.1,
          4.31,
          18.26,
          16.4,
          15.16,
          8.86,
          0.51,
          3.74,
          6.52,
          18.4,
          15.74,
          12.3,
          6.4,
          3.46,
          1.75,
          17.65,
          16.5,
          1.6,
          3.73,
          5.6,
          2.95,
          19.3,
          5.09,
          3.3,
          18.4,
          3.06,
          8.6,
          17.9,
          4.5,
          2.78,
          1.27,
          17.79,
          5.05,
          15.59,
          16.36,
          0.5,
          1.74,
          3.6,
          11.85,
          6.9,
          9.08,
          0.7,
          2.84,
          6.9,
          4.32,
          7,
          9.32,
          4.53,
          0.68,
          18.01,
          1,
          6.06,
          0.83,
          16.98,
          13.53,
          4.22,
          1.9,
          26.37,
          18.23,
          22,
          11.62,
          3.86,
          17.48,
          17.99,
          4.81,
          11.6,
          15.5,
          24.83,
          10.59,
          0.9,
          15.58,
          11.9,
          1.2,
          6.21,
          1.5,
          1.83,
          1.09,
          21.1,
          3.49,
          2.2,
          17.86,
          16.92,
          3.33,
          8.12,
          21.76,
          0.84,
          17,
          2.46,
          11.58,
          2.08,
          1.79,
          1.4,
          10.79,
          17.7,
          18.83,
          1.99,
          1.72,
          3.13,
          3.97,
          17.81,
          17.8,
          2.38,
          3.5,
          0.8,
          18.24,
          17.32,
          2.73,
          17.5,
          3.64,
          4.79,
          1.2,
          1.43,
          18.4,
          12,
          12.8,
          0.6,
          0.6,
          0.8,
          18.21,
          15.53,
          17.48,
          1.2,
          1.3,
          20.95,
          18.14,
          4.88,
          0.57,
          14.72,
          6.95,
          1.2,
          9.57,
          17.6,
          17.5,
          12.7,
          0.7,
          3.72,
          3.76,
          1.2,
          4.1,
          7.9,
          3.16,
          9.48,
          1.3,
          3.18,
          2.16,
          1.7,
          12.96,
          7.32,
          18.2,
          2.02,
          7.41,
          8.43,
          9,
          18.16,
          0.6,
          3.82,
          17.3,
          17.7,
          3.6,
          3.85,
          4.16,
          11.35,
          13.8,
          12.65,
          13,
          2.11,
          12.6,
          14.73,
          1.8,
          15.3,
          3.98,
          2.26,
          12.7,
          3.1,
          0.5,
          6.29,
          18.5,
          29.3,
          1.81,
          12.18,
          18.47,
          13.89,
          0.53,
          1.18,
          7.94,
          8.54,
          1.4,
          21.3,
          1.33,
          3.99,
          18.15,
          9.19,
          5.88
         ],
         "y": [
          3.4833333333333334,
          10.766666666666667,
          40.833333333333336,
          3.816666666666667,
          20.966666666666665,
          23.933333333333334,
          42.166666666666664,
          30.966666666666665,
          28.133333333333333,
          37.233333333333334,
          37,
          21.883333333333333,
          17.483333333333334,
          3.933333333333333,
          21.283333333333335,
          13.916666666666666,
          36.75,
          35.233333333333334,
          43,
          22,
          10.583333333333334,
          9.95,
          49.43333333333333,
          39,
          12,
          21.983333333333334,
          14,
          11.65,
          31,
          17.55,
          13.683333333333334,
          34,
          15.616666666666667,
          23,
          20.933333333333334,
          11,
          16.316666666666666,
          5.1,
          34.083333333333336,
          28.65,
          26.616666666666667,
          46.61666666666667,
          4,
          7.083333333333333,
          16.866666666666667,
          24.416666666666668,
          50,
          41.7,
          5,
          12.8,
          19,
          23.533333333333335,
          38,
          67.88333333333334,
          13.466666666666667,
          3.4166666666666665,
          21.9,
          7,
          13.75,
          3.683333333333333,
          23.733333333333334,
          29.933333333333334,
          20.716666666666665,
          9,
          30.05,
          36.083333333333336,
          27,
          22.933333333333334,
          14.15,
          20.083333333333332,
          30.816666666666666,
          19.65,
          22,
          20,
          36.11666666666667,
          29.566666666666666,
          5,
          40.46666666666667,
          28.3,
          9,
          21.483333333333334,
          9,
          11.65,
          7.05,
          40.516666666666666,
          13.866666666666667,
          9.366666666666667,
          46.75,
          24.2,
          6.75,
          38.03333333333333,
          37.35,
          5.133333333333334,
          41.266666666666666,
          10.966666666666667,
          22.583333333333332,
          12.65,
          10.016666666666667,
          8,
          15,
          44,
          64.5,
          18.033333333333335,
          5.816666666666666,
          13.116666666666667,
          12.45,
          33.68333333333333,
          26,
          8.433333333333334,
          31,
          4,
          28.616666666666667,
          27.6,
          15.9,
          44,
          25.916666666666668,
          5.283333333333333,
          5,
          8.733333333333333,
          28.816666666666666,
          17.166666666666668,
          36.516666666666666,
          4,
          3,
          6.883333333333334,
          32.6,
          19.016666666666666,
          29.2,
          6,
          9,
          43.333333333333336,
          40.46666666666667,
          14.05,
          2.6,
          33.15,
          34.46666666666667,
          6,
          15.2,
          37,
          48,
          22.533333333333335,
          4,
          26.983333333333334,
          10.25,
          6,
          20.716666666666665,
          19.616666666666667,
          12.2,
          21.916666666666668,
          8,
          16.333333333333332,
          11.783333333333333,
          8,
          24.7,
          13.416666666666666,
          31,
          11.583333333333334,
          31.166666666666668,
          10.9,
          33,
          36.75,
          3.966666666666667,
          7.6,
          27,
          44.983333333333334,
          12.316666666666666,
          9,
          16.866666666666667,
          17.766666666666666,
          46.46666666666667,
          35.36666666666667,
          26,
          9.85,
          30,
          22.5,
          7,
          23,
          10.216666666666667,
          10.35,
          32,
          12,
          5,
          19.933333333333334,
          31.2,
          42.266666666666666,
          9.083333333333334,
          22.633333333333333,
          87.55,
          26.25,
          3.1,
          6.7,
          20.116666666666667,
          28.933333333333334,
          9,
          44,
          8.866666666666667,
          22.7,
          44.21666666666667,
          17.216666666666665,
          18.083333333333332
         ],
         "z": [
          5.25,
          9,
          34.86,
          5.25,
          41,
          45.25,
          43.5,
          45.25,
          16.75,
          46.5,
          41.75,
          37.75,
          23.75,
          5,
          14.25,
          18.75,
          45.5,
          41,
          35.5,
          19.5,
          12.25,
          8.75,
          45,
          43.5,
          8.75,
          12.93,
          16.5,
          12.27,
          43.5,
          16.25,
          14.65,
          45.25,
          11.75,
          24,
          44,
          14,
          11.75,
          6.5,
          44.5,
          18,
          40,
          43.05,
          5,
          9.94,
          13.75,
          31.25,
          27.75,
          29.5,
          5.5,
          10.75,
          19.75,
          15.75,
          23.75,
          36.25,
          14.25,
          9,
          44,
          6.25,
          17.5,
          9,
          41.5,
          35.25,
          15.57,
          8.25,
          73.02,
          45.25,
          53.5,
          30.5,
          13.5,
          43,
          44.75,
          16,
          29.75,
          39.25,
          67.07,
          29.5,
          5.75,
          40.5,
          31.75,
          7.5,
          19.25,
          7.5,
          9,
          6.75,
          55.14,
          12.25,
          8.75,
          44.75,
          41.5,
          10.75,
          26.5,
          53,
          5.5,
          44,
          9,
          31,
          9,
          8.75,
          7.25,
          28,
          50,
          49.75,
          9.99,
          9,
          11.75,
          13.97,
          44,
          44.5,
          9.66,
          17,
          5.5,
          45.25,
          43,
          11,
          44,
          15.5,
          14,
          6.5,
          7.5,
          46.5,
          30.5,
          34.25,
          5,
          5,
          6,
          45.5,
          43.43,
          43.25,
          6.25,
          7.5,
          51.25,
          45.75,
          15,
          4.75,
          38.25,
          22.5,
          7,
          25.25,
          46.25,
          45.25,
          32.5,
          5,
          16.5,
          12.5,
          6.75,
          14.5,
          21.5,
          11.72,
          25.75,
          7,
          12.5,
          9.62,
          7.75,
          33.75,
          20.25,
          45.5,
          9.5,
          23.25,
          22.5,
          27.75,
          45,
          5,
          12.14,
          42.5,
          44,
          12.67,
          12.54,
          14.25,
          29.5,
          36.25,
          35,
          33.75,
          9,
          33.75,
          37.25,
          7.75,
          37.75,
          12.75,
          9.25,
          37.25,
          11,
          5.25,
          19.51,
          45.75,
          72,
          9,
          31.25,
          53,
          35.75,
          4.75,
          6.75,
          23,
          24.5,
          7.75,
          52,
          7.75,
          15.25,
          45.75,
          24.75,
          17.98
         ]
        },
        {
         "colorscale": [
          [
           0,
           "#89CFF0"
          ],
          [
           1,
           "#FFDB58"
          ]
         ],
         "scene": "scene",
         "type": "surface",
         "x": [
          0.5664544939912803,
          10.829458964401601,
          25.998437994189725
         ],
         "y": [
          2.6,
          42.475,
          87.55
         ],
         "z": [
          [
           5.357156930565834,
           32.05677688608567,
           69.47071070273718
          ],
          [
           5.357156930565834,
           32.05677688608567,
           69.47071070273718
          ],
          [
           5.357156930565834,
           32.05677688608567,
           69.47071070273718
          ]
         ]
        },
        {
         "hovertemplate": "x=%{x}<br>y=%{y}<extra></extra>",
         "legendgroup": "",
         "line": {
          "color": "#ff0000",
          "dash": "solid",
          "width": 3
         },
         "marker": {
          "symbol": "circle"
         },
         "mode": "lines",
         "name": "",
         "orientation": "v",
         "showlegend": false,
         "type": "scatter",
         "x": [
          0,
          1,
          2,
          3,
          4,
          5,
          6,
          7,
          8,
          9,
          10,
          11,
          12,
          13,
          14,
          15,
          16,
          17,
          18,
          19
         ],
         "xaxis": "x",
         "y": [
          23.499555587768555,
          5.720524311065674,
          3.7817440032958984,
          3.651381254196167,
          3.576645612716675,
          3.5304393768310547,
          3.5044384002685547,
          3.4907619953155518,
          3.4841442108154297,
          3.480674982070923,
          3.4798336029052734,
          3.4787685871124268,
          3.478524923324585,
          3.478653907775879,
          3.4784884452819824,
          3.478386163711548,
          3.4784996509552,
          3.478480339050293,
          3.4781501293182373,
          3.478363513946533
         ],
         "yaxis": "y"
        }
       ],
       "layout": {
        "annotations": [
         {
          "font": {
           "size": 16
          },
          "showarrow": false,
          "text": "Loss Curve",
          "x": 0.225,
          "xanchor": "center",
          "xref": "paper",
          "y": 1,
          "yanchor": "bottom",
          "yref": "paper"
         },
         {
          "font": {
           "size": 16
          },
          "showarrow": false,
          "text": "Model Plot",
          "x": 0.775,
          "xanchor": "center",
          "xref": "paper",
          "y": 1,
          "yanchor": "bottom",
          "yref": "paper"
         }
        ],
        "autosize": true,
        "scene": {
         "aspectmode": "auto",
         "aspectratio": {
          "x": 0.5229544904307756,
          "y": 1.5425341653504996,
          "z": 1.239656356309342
         },
         "domain": {
          "x": [
           0.55,
           1
          ],
          "y": [
           0,
           1
          ]
         },
         "xaxis": {
          "title": {
           "text": "TRIP_MILES"
          },
          "type": "linear"
         },
         "yaxis": {
          "title": {
           "text": "TRIP_MINUTES"
          },
          "type": "linear"
         },
         "zaxis": {
          "title": {
           "text": "FARE"
          },
          "type": "linear"
         }
        },
        "template": {
         "data": {
          "bar": [
           {
            "error_x": {
             "color": "#2a3f5f"
            },
            "error_y": {
             "color": "#2a3f5f"
            },
            "marker": {
             "line": {
              "color": "#E5ECF6",
              "width": 0.5
             },
             "pattern": {
              "fillmode": "overlay",
              "size": 10,
              "solidity": 0.2
             }
            },
            "type": "bar"
           }
          ],
          "barpolar": [
           {
            "marker": {
             "line": {
              "color": "#E5ECF6",
              "width": 0.5
             },
             "pattern": {
              "fillmode": "overlay",
              "size": 10,
              "solidity": 0.2
             }
            },
            "type": "barpolar"
           }
          ],
          "carpet": [
           {
            "aaxis": {
             "endlinecolor": "#2a3f5f",
             "gridcolor": "white",
             "linecolor": "white",
             "minorgridcolor": "white",
             "startlinecolor": "#2a3f5f"
            },
            "baxis": {
             "endlinecolor": "#2a3f5f",
             "gridcolor": "white",
             "linecolor": "white",
             "minorgridcolor": "white",
             "startlinecolor": "#2a3f5f"
            },
            "type": "carpet"
           }
          ],
          "choropleth": [
           {
            "colorbar": {
             "outlinewidth": 0,
             "ticks": ""
            },
            "type": "choropleth"
           }
          ],
          "contour": [
           {
            "colorbar": {
             "outlinewidth": 0,
             "ticks": ""
            },
            "colorscale": [
             [
              0,
              "#0d0887"
             ],
             [
              0.1111111111111111,
              "#46039f"
             ],
             [
              0.2222222222222222,
              "#7201a8"
             ],
             [
              0.3333333333333333,
              "#9c179e"
             ],
             [
              0.4444444444444444,
              "#bd3786"
             ],
             [
              0.5555555555555556,
              "#d8576b"
             ],
             [
              0.6666666666666666,
              "#ed7953"
             ],
             [
              0.7777777777777778,
              "#fb9f3a"
             ],
             [
              0.8888888888888888,
              "#fdca26"
             ],
             [
              1,
              "#f0f921"
             ]
            ],
            "type": "contour"
           }
          ],
          "contourcarpet": [
           {
            "colorbar": {
             "outlinewidth": 0,
             "ticks": ""
            },
            "type": "contourcarpet"
           }
          ],
          "heatmap": [
           {
            "colorbar": {
             "outlinewidth": 0,
             "ticks": ""
            },
            "colorscale": [
             [
              0,
              "#0d0887"
             ],
             [
              0.1111111111111111,
              "#46039f"
             ],
             [
              0.2222222222222222,
              "#7201a8"
             ],
             [
              0.3333333333333333,
              "#9c179e"
             ],
             [
              0.4444444444444444,
              "#bd3786"
             ],
             [
              0.5555555555555556,
              "#d8576b"
             ],
             [
              0.6666666666666666,
              "#ed7953"
             ],
             [
              0.7777777777777778,
              "#fb9f3a"
             ],
             [
              0.8888888888888888,
              "#fdca26"
             ],
             [
              1,
              "#f0f921"
             ]
            ],
            "type": "heatmap"
           }
          ],
          "heatmapgl": [
           {
            "colorbar": {
             "outlinewidth": 0,
             "ticks": ""
            },
            "colorscale": [
             [
              0,
              "#0d0887"
             ],
             [
              0.1111111111111111,
              "#46039f"
             ],
             [
              0.2222222222222222,
              "#7201a8"
             ],
             [
              0.3333333333333333,
              "#9c179e"
             ],
             [
              0.4444444444444444,
              "#bd3786"
             ],
             [
              0.5555555555555556,
              "#d8576b"
             ],
             [
              0.6666666666666666,
              "#ed7953"
             ],
             [
              0.7777777777777778,
              "#fb9f3a"
             ],
             [
              0.8888888888888888,
              "#fdca26"
             ],
             [
              1,
              "#f0f921"
             ]
            ],
            "type": "heatmapgl"
           }
          ],
          "histogram": [
           {
            "marker": {
             "pattern": {
              "fillmode": "overlay",
              "size": 10,
              "solidity": 0.2
             }
            },
            "type": "histogram"
           }
          ],
          "histogram2d": [
           {
            "colorbar": {
             "outlinewidth": 0,
             "ticks": ""
            },
            "colorscale": [
             [
              0,
              "#0d0887"
             ],
             [
              0.1111111111111111,
              "#46039f"
             ],
             [
              0.2222222222222222,
              "#7201a8"
             ],
             [
              0.3333333333333333,
              "#9c179e"
             ],
             [
              0.4444444444444444,
              "#bd3786"
             ],
             [
              0.5555555555555556,
              "#d8576b"
             ],
             [
              0.6666666666666666,
              "#ed7953"
             ],
             [
              0.7777777777777778,
              "#fb9f3a"
             ],
             [
              0.8888888888888888,
              "#fdca26"
             ],
             [
              1,
              "#f0f921"
             ]
            ],
            "type": "histogram2d"
           }
          ],
          "histogram2dcontour": [
           {
            "colorbar": {
             "outlinewidth": 0,
             "ticks": ""
            },
            "colorscale": [
             [
              0,
              "#0d0887"
             ],
             [
              0.1111111111111111,
              "#46039f"
             ],
             [
              0.2222222222222222,
              "#7201a8"
             ],
             [
              0.3333333333333333,
              "#9c179e"
             ],
             [
              0.4444444444444444,
              "#bd3786"
             ],
             [
              0.5555555555555556,
              "#d8576b"
             ],
             [
              0.6666666666666666,
              "#ed7953"
             ],
             [
              0.7777777777777778,
              "#fb9f3a"
             ],
             [
              0.8888888888888888,
              "#fdca26"
             ],
             [
              1,
              "#f0f921"
             ]
            ],
            "type": "histogram2dcontour"
           }
          ],
          "mesh3d": [
           {
            "colorbar": {
             "outlinewidth": 0,
             "ticks": ""
            },
            "type": "mesh3d"
           }
          ],
          "parcoords": [
           {
            "line": {
             "colorbar": {
              "outlinewidth": 0,
              "ticks": ""
             }
            },
            "type": "parcoords"
           }
          ],
          "pie": [
           {
            "automargin": true,
            "type": "pie"
           }
          ],
          "scatter": [
           {
            "fillpattern": {
             "fillmode": "overlay",
             "size": 10,
             "solidity": 0.2
            },
            "type": "scatter"
           }
          ],
          "scatter3d": [
           {
            "line": {
             "colorbar": {
              "outlinewidth": 0,
              "ticks": ""
             }
            },
            "marker": {
             "colorbar": {
              "outlinewidth": 0,
              "ticks": ""
             }
            },
            "type": "scatter3d"
           }
          ],
          "scattercarpet": [
           {
            "marker": {
             "colorbar": {
              "outlinewidth": 0,
              "ticks": ""
             }
            },
            "type": "scattercarpet"
           }
          ],
          "scattergeo": [
           {
            "marker": {
             "colorbar": {
              "outlinewidth": 0,
              "ticks": ""
             }
            },
            "type": "scattergeo"
           }
          ],
          "scattergl": [
           {
            "marker": {
             "colorbar": {
              "outlinewidth": 0,
              "ticks": ""
             }
            },
            "type": "scattergl"
           }
          ],
          "scattermapbox": [
           {
            "marker": {
             "colorbar": {
              "outlinewidth": 0,
              "ticks": ""
             }
            },
            "type": "scattermapbox"
           }
          ],
          "scatterpolar": [
           {
            "marker": {
             "colorbar": {
              "outlinewidth": 0,
              "ticks": ""
             }
            },
            "type": "scatterpolar"
           }
          ],
          "scatterpolargl": [
           {
            "marker": {
             "colorbar": {
              "outlinewidth": 0,
              "ticks": ""
             }
            },
            "type": "scatterpolargl"
           }
          ],
          "scatterternary": [
           {
            "marker": {
             "colorbar": {
              "outlinewidth": 0,
              "ticks": ""
             }
            },
            "type": "scatterternary"
           }
          ],
          "surface": [
           {
            "colorbar": {
             "outlinewidth": 0,
             "ticks": ""
            },
            "colorscale": [
             [
              0,
              "#0d0887"
             ],
             [
              0.1111111111111111,
              "#46039f"
             ],
             [
              0.2222222222222222,
              "#7201a8"
             ],
             [
              0.3333333333333333,
              "#9c179e"
             ],
             [
              0.4444444444444444,
              "#bd3786"
             ],
             [
              0.5555555555555556,
              "#d8576b"
             ],
             [
              0.6666666666666666,
              "#ed7953"
             ],
             [
              0.7777777777777778,
              "#fb9f3a"
             ],
             [
              0.8888888888888888,
              "#fdca26"
             ],
             [
              1,
              "#f0f921"
             ]
            ],
            "type": "surface"
           }
          ],
          "table": [
           {
            "cells": {
             "fill": {
              "color": "#EBF0F8"
             },
             "line": {
              "color": "white"
             }
            },
            "header": {
             "fill": {
              "color": "#C8D4E3"
             },
             "line": {
              "color": "white"
             }
            },
            "type": "table"
           }
          ]
         },
         "layout": {
          "annotationdefaults": {
           "arrowcolor": "#2a3f5f",
           "arrowhead": 0,
           "arrowwidth": 1
          },
          "autotypenumbers": "strict",
          "coloraxis": {
           "colorbar": {
            "outlinewidth": 0,
            "ticks": ""
           }
          },
          "colorscale": {
           "diverging": [
            [
             0,
             "#8e0152"
            ],
            [
             0.1,
             "#c51b7d"
            ],
            [
             0.2,
             "#de77ae"
            ],
            [
             0.3,
             "#f1b6da"
            ],
            [
             0.4,
             "#fde0ef"
            ],
            [
             0.5,
             "#f7f7f7"
            ],
            [
             0.6,
             "#e6f5d0"
            ],
            [
             0.7,
             "#b8e186"
            ],
            [
             0.8,
             "#7fbc41"
            ],
            [
             0.9,
             "#4d9221"
            ],
            [
             1,
             "#276419"
            ]
           ],
           "sequential": [
            [
             0,
             "#0d0887"
            ],
            [
             0.1111111111111111,
             "#46039f"
            ],
            [
             0.2222222222222222,
             "#7201a8"
            ],
            [
             0.3333333333333333,
             "#9c179e"
            ],
            [
             0.4444444444444444,
             "#bd3786"
            ],
            [
             0.5555555555555556,
             "#d8576b"
            ],
            [
             0.6666666666666666,
             "#ed7953"
            ],
            [
             0.7777777777777778,
             "#fb9f3a"
            ],
            [
             0.8888888888888888,
             "#fdca26"
            ],
            [
             1,
             "#f0f921"
            ]
           ],
           "sequentialminus": [
            [
             0,
             "#0d0887"
            ],
            [
             0.1111111111111111,
             "#46039f"
            ],
            [
             0.2222222222222222,
             "#7201a8"
            ],
            [
             0.3333333333333333,
             "#9c179e"
            ],
            [
             0.4444444444444444,
             "#bd3786"
            ],
            [
             0.5555555555555556,
             "#d8576b"
            ],
            [
             0.6666666666666666,
             "#ed7953"
            ],
            [
             0.7777777777777778,
             "#fb9f3a"
            ],
            [
             0.8888888888888888,
             "#fdca26"
            ],
            [
             1,
             "#f0f921"
            ]
           ]
          },
          "colorway": [
           "#636efa",
           "#EF553B",
           "#00cc96",
           "#ab63fa",
           "#FFA15A",
           "#19d3f3",
           "#FF6692",
           "#B6E880",
           "#FF97FF",
           "#FECB52"
          ],
          "font": {
           "color": "#2a3f5f"
          },
          "geo": {
           "bgcolor": "white",
           "lakecolor": "white",
           "landcolor": "#E5ECF6",
           "showlakes": true,
           "showland": true,
           "subunitcolor": "white"
          },
          "hoverlabel": {
           "align": "left"
          },
          "hovermode": "closest",
          "mapbox": {
           "style": "light"
          },
          "paper_bgcolor": "white",
          "plot_bgcolor": "#E5ECF6",
          "polar": {
           "angularaxis": {
            "gridcolor": "white",
            "linecolor": "white",
            "ticks": ""
           },
           "bgcolor": "#E5ECF6",
           "radialaxis": {
            "gridcolor": "white",
            "linecolor": "white",
            "ticks": ""
           }
          },
          "scene": {
           "xaxis": {
            "backgroundcolor": "#E5ECF6",
            "gridcolor": "white",
            "gridwidth": 2,
            "linecolor": "white",
            "showbackground": true,
            "ticks": "",
            "zerolinecolor": "white"
           },
           "yaxis": {
            "backgroundcolor": "#E5ECF6",
            "gridcolor": "white",
            "gridwidth": 2,
            "linecolor": "white",
            "showbackground": true,
            "ticks": "",
            "zerolinecolor": "white"
           },
           "zaxis": {
            "backgroundcolor": "#E5ECF6",
            "gridcolor": "white",
            "gridwidth": 2,
            "linecolor": "white",
            "showbackground": true,
            "ticks": "",
            "zerolinecolor": "white"
           }
          },
          "shapedefaults": {
           "line": {
            "color": "#2a3f5f"
           }
          },
          "ternary": {
           "aaxis": {
            "gridcolor": "white",
            "linecolor": "white",
            "ticks": ""
           },
           "baxis": {
            "gridcolor": "white",
            "linecolor": "white",
            "ticks": ""
           },
           "bgcolor": "#E5ECF6",
           "caxis": {
            "gridcolor": "white",
            "linecolor": "white",
            "ticks": ""
           }
          },
          "title": {
           "x": 0.05
          },
          "xaxis": {
           "automargin": true,
           "gridcolor": "white",
           "linecolor": "white",
           "ticks": "",
           "title": {
            "standoff": 15
           },
           "zerolinecolor": "white",
           "zerolinewidth": 2
          },
          "yaxis": {
           "automargin": true,
           "gridcolor": "white",
           "linecolor": "white",
           "ticks": "",
           "title": {
            "standoff": 15
           },
           "zerolinecolor": "white",
           "zerolinewidth": 2
          }
         }
        },
        "xaxis": {
         "anchor": "y",
         "autorange": true,
         "domain": [
          0,
          0.45
         ],
         "range": [
          0,
          19
         ],
         "title": {
          "text": "Epoch"
         },
         "type": "linear"
        },
        "yaxis": {
         "anchor": "x",
         "domain": [
          0,
          1
         ],
         "range": [
          2.78252010345459,
          23.499555587768555
         ],
         "title": {
          "text": "Root Mean Squared Error"
         },
         "type": "linear"
        }
       }
      },
      "image/png": "[encoded data removed]",
      "text/html": [
       "<div>                            <div id=\"fbbf373d-a0d5-42bc-82b8-6f23cbaf0719\" class=\"plotly-graph-div\" style=\"height:525px; width:100%;\"></div>            <script type=\"text/javascript\">                require([\"plotly\"], function(Plotly) {                    window.PLOTLYENV=window.PLOTLYENV || {};                                    if (document.getElementById(\"fbbf373d-a0d5-42bc-82b8-6f23cbaf0719\")) {                    Plotly.newPlot(                        \"fbbf373d-a0d5-42bc-82b8-6f23cbaf0719\",                        [{\"hovertemplate\":\"TRIP_MILES=%{x}\\u003cbr\\u003eTRIP_MINUTES=%{y}\\u003cbr\\u003eFARE=%{z}\\u003cextra\\u003e\\u003c\\u002fextra\\u003e\",\"legendgroup\":\"\",\"marker\":{\"color\":\"#636efa\",\"symbol\":\"circle\"},\"mode\":\"markers\",\"name\":\"\",\"scene\":\"scene\",\"showlegend\":false,\"x\":[0.84,1.62,12.69,0.64,16.67,18.21,17.46,18.1,4.31,18.26,16.4,15.16,8.86,0.51,3.74,6.52,18.4,15.74,12.3,6.4,3.46,1.75,17.65,16.5,1.6,3.73,5.6,2.95,19.3,5.09,3.3,18.4,3.06,8.6,17.9,4.5,2.78,1.27,17.79,5.05,15.59,16.36,0.5,1.74,3.6,11.85,6.9,9.08,0.7,2.84,6.9,4.32,7.0,9.32,4.53,0.68,18.01,1.0,6.06,0.83,16.98,13.53,4.22,1.9,26.37,18.23,22.0,11.62,3.86,17.48,17.99,4.81,11.6,15.5,24.83,10.59,0.9,15.58,11.9,1.2,6.21,1.5,1.83,1.09,21.1,3.49,2.2,17.86,16.92,3.33,8.12,21.76,0.84,17.0,2.46,11.58,2.08,1.79,1.4,10.79,17.7,18.83,1.99,1.72,3.13,3.97,17.81,17.8,2.38,3.5,0.8,18.24,17.32,2.73,17.5,3.64,4.79,1.2,1.43,18.4,12.0,12.8,0.6,0.6,0.8,18.21,15.53,17.48,1.2,1.3,20.95,18.14,4.88,0.57,14.72,6.95,1.2,9.57,17.6,17.5,12.7,0.7,3.72,3.76,1.2,4.1,7.9,3.16,9.48,1.3,3.18,2.16,1.7,12.96,7.32,18.2,2.02,7.41,8.43,9.0,18.16,0.6,3.82,17.3,17.7,3.6,3.85,4.16,11.35,13.8,12.65,13.0,2.11,12.6,14.73,1.8,15.3,3.98,2.26,12.7,3.1,0.5,6.29,18.5,29.3,1.81,12.18,18.47,13.89,0.53,1.18,7.94,8.54,1.4,21.3,1.33,3.99,18.15,9.19,5.88],\"y\":[3.4833333333333334,10.766666666666667,40.833333333333336,3.816666666666667,20.966666666666665,23.933333333333334,42.166666666666664,30.966666666666665,28.133333333333333,37.233333333333334,37.0,21.883333333333333,17.483333333333334,3.933333333333333,21.283333333333335,13.916666666666666,36.75,35.233333333333334,43.0,22.0,10.583333333333334,9.95,49.43333333333333,39.0,12.0,21.983333333333334,14.0,11.65,31.0,17.55,13.683333333333334,34.0,15.616666666666667,23.0,20.933333333333334,11.0,16.316666666666666,5.1,34.083333333333336,28.65,26.616666666666667,46.61666666666667,4.0,7.083333333333333,16.866666666666667,24.416666666666668,50.0,41.7,5.0,12.8,19.0,23.533333333333335,38.0,67.88333333333334,13.466666666666667,3.4166666666666665,21.9,7.0,13.75,3.683333333333333,23.733333333333334,29.933333333333334,20.716666666666665,9.0,30.05,36.083333333333336,27.0,22.933333333333334,14.15,20.083333333333332,30.816666666666666,19.65,22.0,20.0,36.11666666666667,29.566666666666666,5.0,40.46666666666667,28.3,9.0,21.483333333333334,9.0,11.65,7.05,40.516666666666666,13.866666666666667,9.366666666666667,46.75,24.2,6.75,38.03333333333333,37.35,5.133333333333334,41.266666666666666,10.966666666666667,22.583333333333332,12.65,10.016666666666667,8.0,15.0,44.0,64.5,18.033333333333335,5.816666666666666,13.116666666666667,12.45,33.68333333333333,26.0,8.433333333333334,31.0,4.0,28.616666666666667,27.6,15.9,44.0,25.916666666666668,5.283333333333333,5.0,8.733333333333333,28.816666666666666,17.166666666666668,36.516666666666666,4.0,3.0,6.883333333333334,32.6,19.016666666666666,29.2,6.0,9.0,43.333333333333336,40.46666666666667,14.05,2.6,33.15,34.46666666666667,6.0,15.2,37.0,48.0,22.533333333333335,4.0,26.983333333333334,10.25,6.0,20.716666666666665,19.616666666666667,12.2,21.916666666666668,8.0,16.333333333333332,11.783333333333333,8.0,24.7,13.416666666666666,31.0,11.583333333333334,31.166666666666668,10.9,33.0,36.75,3.966666666666667,7.6,27.0,44.983333333333334,12.316666666666666,9.0,16.866666666666667,17.766666666666666,46.46666666666667,35.36666666666667,26.0,9.85,30.0,22.5,7.0,23.0,10.216666666666667,10.35,32.0,12.0,5.0,19.933333333333334,31.2,42.266666666666666,9.083333333333334,22.633333333333333,87.55,26.25,3.1,6.7,20.116666666666667,28.933333333333334,9.0,44.0,8.866666666666667,22.7,44.21666666666667,17.216666666666665,18.083333333333332],\"z\":[5.25,9.0,34.86,5.25,41.0,45.25,43.5,45.25,16.75,46.5,41.75,37.75,23.75,5.0,14.25,18.75,45.5,41.0,35.5,19.5,12.25,8.75,45.0,43.5,8.75,12.93,16.5,12.27,43.5,16.25,14.65,45.25,11.75,24.0,44.0,14.0,11.75,6.5,44.5,18.0,40.0,43.05,5.0,9.94,13.75,31.25,27.75,29.5,5.5,10.75,19.75,15.75,23.75,36.25,14.25,9.0,44.0,6.25,17.5,9.0,41.5,35.25,15.57,8.25,73.02,45.25,53.5,30.5,13.5,43.0,44.75,16.0,29.75,39.25,67.07,29.5,5.75,40.5,31.75,7.5,19.25,7.5,9.0,6.75,55.14,12.25,8.75,44.75,41.5,10.75,26.5,53.0,5.5,44.0,9.0,31.0,9.0,8.75,7.25,28.0,50.0,49.75,9.99,9.0,11.75,13.97,44.0,44.5,9.66,17.0,5.5,45.25,43.0,11.0,44.0,15.5,14.0,6.5,7.5,46.5,30.5,34.25,5.0,5.0,6.0,45.5,43.43,43.25,6.25,7.5,51.25,45.75,15.0,4.75,38.25,22.5,7.0,25.25,46.25,45.25,32.5,5.0,16.5,12.5,6.75,14.5,21.5,11.72,25.75,7.0,12.5,9.62,7.75,33.75,20.25,45.5,9.5,23.25,22.5,27.75,45.0,5.0,12.14,42.5,44.0,12.67,12.54,14.25,29.5,36.25,35.0,33.75,9.0,33.75,37.25,7.75,37.75,12.75,9.25,37.25,11.0,5.25,19.51,45.75,72.0,9.0,31.25,53.0,35.75,4.75,6.75,23.0,24.5,7.75,52.0,7.75,15.25,45.75,24.75,17.98],\"type\":\"scatter3d\"},{\"colorscale\":[[0,\"#89CFF0\"],[1,\"#FFDB58\"]],\"x\":[0.5664544939912803,10.829458964401601,25.998437994189725],\"y\":[2.6,42.475,87.55],\"z\":[[5.357156930565834,32.05677688608567,69.47071070273718],[5.357156930565834,32.05677688608567,69.47071070273718],[5.357156930565834,32.05677688608567,69.47071070273718]],\"type\":\"surface\",\"scene\":\"scene\"},{\"hovertemplate\":\"x=%{x}\\u003cbr\\u003ey=%{y}\\u003cextra\\u003e\\u003c\\u002fextra\\u003e\",\"legendgroup\":\"\",\"line\":{\"color\":\"#ff0000\",\"dash\":\"solid\",\"width\":3},\"marker\":{\"symbol\":\"circle\"},\"mode\":\"lines\",\"name\":\"\",\"orientation\":\"v\",\"showlegend\":false,\"x\":[0,1,2,3,4,5,6,7,8,9,10,11,12,13,14,15,16,17,18,19],\"xaxis\":\"x\",\"y\":[23.499555587768555,5.720524311065674,3.7817440032958984,3.651381254196167,3.576645612716675,3.5304393768310547,3.5044384002685547,3.4907619953155518,3.4841442108154297,3.480674982070923,3.4798336029052734,3.4787685871124268,3.478524923324585,3.478653907775879,3.4784884452819824,3.478386163711548,3.4784996509552,3.478480339050293,3.4781501293182373,3.478363513946533],\"yaxis\":\"y\",\"type\":\"scatter\"}],                        {\"template\":{\"data\":{\"histogram2dcontour\":[{\"type\":\"histogram2dcontour\",\"colorbar\":{\"outlinewidth\":0,\"ticks\":\"\"},\"colorscale\":[[0.0,\"#0d0887\"],[0.1111111111111111,\"#46039f\"],[0.2222222222222222,\"#7201a8\"],[0.3333333333333333,\"#9c179e\"],[0.4444444444444444,\"#bd3786\"],[0.5555555555555556,\"#d8576b\"],[0.6666666666666666,\"#ed7953\"],[0.7777777777777778,\"#fb9f3a\"],[0.8888888888888888,\"#fdca26\"],[1.0,\"#f0f921\"]]}],\"choropleth\":[{\"type\":\"choropleth\",\"colorbar\":{\"outlinewidth\":0,\"ticks\":\"\"}}],\"histogram2d\":[{\"type\":\"histogram2d\",\"colorbar\":{\"outlinewidth\":0,\"ticks\":\"\"},\"colorscale\":[[0.0,\"#0d0887\"],[0.1111111111111111,\"#46039f\"],[0.2222222222222222,\"#7201a8\"],[0.3333333333333333,\"#9c179e\"],[0.4444444444444444,\"#bd3786\"],[0.5555555555555556,\"#d8576b\"],[0.6666666666666666,\"#ed7953\"],[0.7777777777777778,\"#fb9f3a\"],[0.8888888888888888,\"#fdca26\"],[1.0,\"#f0f921\"]]}],\"heatmap\":[{\"type\":\"heatmap\",\"colorbar\":{\"outlinewidth\":0,\"ticks\":\"\"},\"colorscale\":[[0.0,\"#0d0887\"],[0.1111111111111111,\"#46039f\"],[0.2222222222222222,\"#7201a8\"],[0.3333333333333333,\"#9c179e\"],[0.4444444444444444,\"#bd3786\"],[0.5555555555555556,\"#d8576b\"],[0.6666666666666666,\"#ed7953\"],[0.7777777777777778,\"#fb9f3a\"],[0.8888888888888888,\"#fdca26\"],[1.0,\"#f0f921\"]]}],\"heatmapgl\":[{\"type\":\"heatmapgl\",\"colorbar\":{\"outlinewidth\":0,\"ticks\":\"\"},\"colorscale\":[[0.0,\"#0d0887\"],[0.1111111111111111,\"#46039f\"],[0.2222222222222222,\"#7201a8\"],[0.3333333333333333,\"#9c179e\"],[0.4444444444444444,\"#bd3786\"],[0.5555555555555556,\"#d8576b\"],[0.6666666666666666,\"#ed7953\"],[0.7777777777777778,\"#fb9f3a\"],[0.8888888888888888,\"#fdca26\"],[1.0,\"#f0f921\"]]}],\"contourcarpet\":[{\"type\":\"contourcarpet\",\"colorbar\":{\"outlinewidth\":0,\"ticks\":\"\"}}],\"contour\":[{\"type\":\"contour\",\"colorbar\":{\"outlinewidth\":0,\"ticks\":\"\"},\"colorscale\":[[0.0,\"#0d0887\"],[0.1111111111111111,\"#46039f\"],[0.2222222222222222,\"#7201a8\"],[0.3333333333333333,\"#9c179e\"],[0.4444444444444444,\"#bd3786\"],[0.5555555555555556,\"#d8576b\"],[0.6666666666666666,\"#ed7953\"],[0.7777777777777778,\"#fb9f3a\"],[0.8888888888888888,\"#fdca26\"],[1.0,\"#f0f921\"]]}],\"surface\":[{\"type\":\"surface\",\"colorbar\":{\"outlinewidth\":0,\"ticks\":\"\"},\"colorscale\":[[0.0,\"#0d0887\"],[0.1111111111111111,\"#46039f\"],[0.2222222222222222,\"#7201a8\"],[0.3333333333333333,\"#9c179e\"],[0.4444444444444444,\"#bd3786\"],[0.5555555555555556,\"#d8576b\"],[0.6666666666666666,\"#ed7953\"],[0.7777777777777778,\"#fb9f3a\"],[0.8888888888888888,\"#fdca26\"],[1.0,\"#f0f921\"]]}],\"mesh3d\":[{\"type\":\"mesh3d\",\"colorbar\":{\"outlinewidth\":0,\"ticks\":\"\"}}],\"scatter\":[{\"fillpattern\":{\"fillmode\":\"overlay\",\"size\":10,\"solidity\":0.2},\"type\":\"scatter\"}],\"parcoords\":[{\"type\":\"parcoords\",\"line\":{\"colorbar\":{\"outlinewidth\":0,\"ticks\":\"\"}}}],\"scatterpolargl\":[{\"type\":\"scatterpolargl\",\"marker\":{\"colorbar\":{\"outlinewidth\":0,\"ticks\":\"\"}}}],\"bar\":[{\"error_x\":{\"color\":\"#2a3f5f\"},\"error_y\":{\"color\":\"#2a3f5f\"},\"marker\":{\"line\":{\"color\":\"#E5ECF6\",\"width\":0.5},\"pattern\":{\"fillmode\":\"overlay\",\"size\":10,\"solidity\":0.2}},\"type\":\"bar\"}],\"scattergeo\":[{\"type\":\"scattergeo\",\"marker\":{\"colorbar\":{\"outlinewidth\":0,\"ticks\":\"\"}}}],\"scatterpolar\":[{\"type\":\"scatterpolar\",\"marker\":{\"colorbar\":{\"outlinewidth\":0,\"ticks\":\"\"}}}],\"histogram\":[{\"marker\":{\"pattern\":{\"fillmode\":\"overlay\",\"size\":10,\"solidity\":0.2}},\"type\":\"histogram\"}],\"scattergl\":[{\"type\":\"scattergl\",\"marker\":{\"colorbar\":{\"outlinewidth\":0,\"ticks\":\"\"}}}],\"scatter3d\":[{\"type\":\"scatter3d\",\"line\":{\"colorbar\":{\"outlinewidth\":0,\"ticks\":\"\"}},\"marker\":{\"colorbar\":{\"outlinewidth\":0,\"ticks\":\"\"}}}],\"scattermapbox\":[{\"type\":\"scattermapbox\",\"marker\":{\"colorbar\":{\"outlinewidth\":0,\"ticks\":\"\"}}}],\"scatterternary\":[{\"type\":\"scatterternary\",\"marker\":{\"colorbar\":{\"outlinewidth\":0,\"ticks\":\"\"}}}],\"scattercarpet\":[{\"type\":\"scattercarpet\",\"marker\":{\"colorbar\":{\"outlinewidth\":0,\"ticks\":\"\"}}}],\"carpet\":[{\"aaxis\":{\"endlinecolor\":\"#2a3f5f\",\"gridcolor\":\"white\",\"linecolor\":\"white\",\"minorgridcolor\":\"white\",\"startlinecolor\":\"#2a3f5f\"},\"baxis\":{\"endlinecolor\":\"#2a3f5f\",\"gridcolor\":\"white\",\"linecolor\":\"white\",\"minorgridcolor\":\"white\",\"startlinecolor\":\"#2a3f5f\"},\"type\":\"carpet\"}],\"table\":[{\"cells\":{\"fill\":{\"color\":\"#EBF0F8\"},\"line\":{\"color\":\"white\"}},\"header\":{\"fill\":{\"color\":\"#C8D4E3\"},\"line\":{\"color\":\"white\"}},\"type\":\"table\"}],\"barpolar\":[{\"marker\":{\"line\":{\"color\":\"#E5ECF6\",\"width\":0.5},\"pattern\":{\"fillmode\":\"overlay\",\"size\":10,\"solidity\":0.2}},\"type\":\"barpolar\"}],\"pie\":[{\"automargin\":true,\"type\":\"pie\"}]},\"layout\":{\"autotypenumbers\":\"strict\",\"colorway\":[\"#636efa\",\"#EF553B\",\"#00cc96\",\"#ab63fa\",\"#FFA15A\",\"#19d3f3\",\"#FF6692\",\"#B6E880\",\"#FF97FF\",\"#FECB52\"],\"font\":{\"color\":\"#2a3f5f\"},\"hovermode\":\"closest\",\"hoverlabel\":{\"align\":\"left\"},\"paper_bgcolor\":\"white\",\"plot_bgcolor\":\"#E5ECF6\",\"polar\":{\"bgcolor\":\"#E5ECF6\",\"angularaxis\":{\"gridcolor\":\"white\",\"linecolor\":\"white\",\"ticks\":\"\"},\"radialaxis\":{\"gridcolor\":\"white\",\"linecolor\":\"white\",\"ticks\":\"\"}},\"ternary\":{\"bgcolor\":\"#E5ECF6\",\"aaxis\":{\"gridcolor\":\"white\",\"linecolor\":\"white\",\"ticks\":\"\"},\"baxis\":{\"gridcolor\":\"white\",\"linecolor\":\"white\",\"ticks\":\"\"},\"caxis\":{\"gridcolor\":\"white\",\"linecolor\":\"white\",\"ticks\":\"\"}},\"coloraxis\":{\"colorbar\":{\"outlinewidth\":0,\"ticks\":\"\"}},\"colorscale\":{\"sequential\":[[0.0,\"#0d0887\"],[0.1111111111111111,\"#46039f\"],[0.2222222222222222,\"#7201a8\"],[0.3333333333333333,\"#9c179e\"],[0.4444444444444444,\"#bd3786\"],[0.5555555555555556,\"#d8576b\"],[0.6666666666666666,\"#ed7953\"],[0.7777777777777778,\"#fb9f3a\"],[0.8888888888888888,\"#fdca26\"],[1.0,\"#f0f921\"]],\"sequentialminus\":[[0.0,\"#0d0887\"],[0.1111111111111111,\"#46039f\"],[0.2222222222222222,\"#7201a8\"],[0.3333333333333333,\"#9c179e\"],[0.4444444444444444,\"#bd3786\"],[0.5555555555555556,\"#d8576b\"],[0.6666666666666666,\"#ed7953\"],[0.7777777777777778,\"#fb9f3a\"],[0.8888888888888888,\"#fdca26\"],[1.0,\"#f0f921\"]],\"diverging\":[[0,\"#8e0152\"],[0.1,\"#c51b7d\"],[0.2,\"#de77ae\"],[0.3,\"#f1b6da\"],[0.4,\"#fde0ef\"],[0.5,\"#f7f7f7\"],[0.6,\"#e6f5d0\"],[0.7,\"#b8e186\"],[0.8,\"#7fbc41\"],[0.9,\"#4d9221\"],[1,\"#276419\"]]},\"xaxis\":{\"gridcolor\":\"white\",\"linecolor\":\"white\",\"ticks\":\"\",\"title\":{\"standoff\":15},\"zerolinecolor\":\"white\",\"automargin\":true,\"zerolinewidth\":2},\"yaxis\":{\"gridcolor\":\"white\",\"linecolor\":\"white\",\"ticks\":\"\",\"title\":{\"standoff\":15},\"zerolinecolor\":\"white\",\"automargin\":true,\"zerolinewidth\":2},\"scene\":{\"xaxis\":{\"backgroundcolor\":\"#E5ECF6\",\"gridcolor\":\"white\",\"linecolor\":\"white\",\"showbackground\":true,\"ticks\":\"\",\"zerolinecolor\":\"white\",\"gridwidth\":2},\"yaxis\":{\"backgroundcolor\":\"#E5ECF6\",\"gridcolor\":\"white\",\"linecolor\":\"white\",\"showbackground\":true,\"ticks\":\"\",\"zerolinecolor\":\"white\",\"gridwidth\":2},\"zaxis\":{\"backgroundcolor\":\"#E5ECF6\",\"gridcolor\":\"white\",\"linecolor\":\"white\",\"showbackground\":true,\"ticks\":\"\",\"zerolinecolor\":\"white\",\"gridwidth\":2}},\"shapedefaults\":{\"line\":{\"color\":\"#2a3f5f\"}},\"annotationdefaults\":{\"arrowcolor\":\"#2a3f5f\",\"arrowhead\":0,\"arrowwidth\":1},\"geo\":{\"bgcolor\":\"white\",\"landcolor\":\"#E5ECF6\",\"subunitcolor\":\"white\",\"showland\":true,\"showlakes\":true,\"lakecolor\":\"white\"},\"title\":{\"x\":0.05},\"mapbox\":{\"style\":\"light\"}}},\"xaxis\":{\"anchor\":\"y\",\"domain\":[0.0,0.45],\"title\":{\"text\":\"Epoch\"}},\"yaxis\":{\"anchor\":\"x\",\"domain\":[0.0,1.0],\"title\":{\"text\":\"Root Mean Squared Error\"},\"range\":[2.78252010345459,23.499555587768555]},\"scene\":{\"domain\":{\"x\":[0.55,1.0],\"y\":[0.0,1.0]},\"xaxis\":{\"title\":{\"text\":\"TRIP_MILES\"}},\"yaxis\":{\"title\":{\"text\":\"TRIP_MINUTES\"}},\"zaxis\":{\"title\":{\"text\":\"FARE\"}}},\"annotations\":[{\"font\":{\"size\":16},\"showarrow\":false,\"text\":\"Loss Curve\",\"x\":0.225,\"xanchor\":\"center\",\"xref\":\"paper\",\"y\":1.0,\"yanchor\":\"bottom\",\"yref\":\"paper\"},{\"font\":{\"size\":16},\"showarrow\":false,\"text\":\"Model Plot\",\"x\":0.775,\"xanchor\":\"center\",\"xref\":\"paper\",\"y\":1.0,\"yanchor\":\"bottom\",\"yref\":\"paper\"}]},                        {\"responsive\": true}                    ).then(function(){\n",
       "                            \n",
       "var gd = document.getElementById('fbbf373d-a0d5-42bc-82b8-6f23cbaf0719');\n",
       "var x = new MutationObserver(function (mutations, observer) {{\n",
       "        var display = window.getComputedStyle(gd).display;\n",
       "        if (!display || display === 'none') {{\n",
       "            console.log([gd, 'removed!']);\n",
       "            Plotly.purge(gd);\n",
       "            observer.disconnect();\n",
       "        }}\n",
       "}});\n",
       "\n",
       "// Listen for the removal of the full notebook cells\n",
       "var notebookContainer = gd.closest('#notebook-container');\n",
       "if (notebookContainer) {{\n",
       "    x.observe(notebookContainer, {childList: true});\n",
       "}}\n",
       "\n",
       "// Listen for the clearing of the current output cell\n",
       "var outputEl = gd.closest('.output');\n",
       "if (outputEl) {{\n",
       "    x.observe(outputEl, {childList: true});\n",
       "}}\n",
       "\n",
       "                        })                };                });            </script>        </div>"
      ]
     },
     "metadata": {},
     "output_type": "display_data"
    }
   ],
   "source": [
    "\n",
    "# The following variables are the hyperparameters.\n",
    "learning_rate = 0.001\n",
    "epochs = 20\n",
    "batch_size = 50\n",
    "\n",
    "# Specify the feature and the label.\n",
    "features = ['TRIP_MILES']\n",
    "label = 'FARE'\n",
    "\n",
    "model_1 = run_experiment(training_df, features, label, learning_rate, epochs, batch_size)\n",
    "\n",
    "# learning_rate = 0.001\n",
    "# epochs = 20\n",
    "# batch_size = 50\n",
    "\n",
    "# # Specify the feature and the label.\n",
    "# features = ['TRIP_MILES']\n",
    "# label = 'FARE'\n",
    "\n",
    "# model_1 = run_experiment(training_df, features, label, learning_rate, epochs, batch_size)\n",
    "\n",
    "learning_rate = 0.001\n",
    "epochs = 20\n",
    "batch_size = 50\n",
    "\n",
    "training_df.loc[:, 'TRIP_MINUTES'] = training_df['TRIP_SECONDS']/60\n",
    "\n",
    "features = ['TRIP_MILES', 'TRIP_MINUTES']\n",
    "label = 'FARE'\n",
    "\n",
    "model_2 = run_experiment(training_df, features, label, learning_rate, epochs, batch_size)\n",
    "\n",
    "def format_currency(x):\n",
    "  return \"${:.2f}\".format(x)\n",
    "\n",
    "def build_batch(df, batch_size):\n",
    "  batch = df.sample(n=batch_size).copy()\n",
    "  batch.set_index(np.arange(batch_size), inplace=True)\n",
    "  return batch\n",
    "\n",
    "def predict_fare(model, df, features, label, batch_size=50):\n",
    "  batch = build_batch(df, batch_size)\n",
    "  predicted_values = model.predict_on_batch(x=batch.loc[:, features].values)\n",
    "\n",
    "  data = {\"PREDICTED_FARE\": [], \"OBSERVED_FARE\": [], \"L1_LOSS\": [],\n",
    "          features[0]: [], features[1]: []}\n",
    "  for i in range(batch_size):\n",
    "    predicted = predicted_values[i][0]\n",
    "    observed = batch.at[i, label]\n",
    "    data[\"PREDICTED_FARE\"].append(format_currency(predicted))\n",
    "    data[\"OBSERVED_FARE\"].append(format_currency(observed))\n",
    "    data[\"L1_LOSS\"].append(format_currency(abs(observed - predicted)))\n",
    "    data[features[0]].append(batch.at[i, features[0]])\n",
    "    data[features[1]].append(\"{:.2f}\".format(batch.at[i, features[1]]))\n",
    "\n",
    "  output_df = pd.DataFrame(data)\n",
    "  return output_df\n"
   ]
  },
  {
   "cell_type": "code",
   "execution_count": 99,
   "id": "c713b9f7-fc40-41d6-a1b5-695048e7528c",
   "metadata": {},
   "outputs": [
    {
     "name": "stdout",
     "output_type": "stream",
     "text": [
      "--------------------------------------------------------------------------------\n",
      "|                                 PREDICTIONS                                  |\n",
      "--------------------------------------------------------------------------------\n",
      "   PREDICTED_FARE OBSERVED_FARE L1_LOSS  TRIP_MILES TRIP_MINUTES\n",
      "0          $32.42        $32.25   $0.17       12.62        20.38\n",
      "1          $43.21        $44.00   $0.79       17.90        20.93\n",
      "2           $6.72         $6.25   $0.47        0.97         6.32\n",
      "3          $13.95        $16.00   $2.05        3.12        25.70\n",
      "4          $18.80        $17.99   $0.81        5.94        19.83\n",
      "5           $7.92         $7.75   $0.17        1.37         8.93\n",
      "6          $25.10        $24.50   $0.60        9.40        15.00\n",
      "7          $23.38        $22.36   $1.02        8.01        22.45\n",
      "8          $13.61        $13.20   $0.41        4.07        10.37\n",
      "9          $10.09         $9.54   $0.55        2.15        12.90\n",
      "10         $16.53        $15.75   $0.78        5.07        16.42\n",
      "11          $7.70         $6.75   $0.95        1.40         7.00\n",
      "12          $6.70         $6.00   $0.70        1.07         4.77\n",
      "13          $8.64         $8.25   $0.39        1.62        10.38\n",
      "14         $17.34        $16.75   $0.59        5.96         9.68\n",
      "15          $9.93         $9.50   $0.43        2.50         7.00\n",
      "16         $45.64        $44.25   $1.39       17.99        36.13\n",
      "17          $5.92         $5.25   $0.67        0.68         4.83\n",
      "18         $12.49        $12.50   $0.01        3.40        12.00\n",
      "19          $8.47         $7.75   $0.72        1.72         7.83\n",
      "20         $44.99        $44.75   $0.24       18.14        29.68\n",
      "21         $37.95        $39.30   $1.35       14.41        33.27\n",
      "22         $29.77        $29.00   $0.77       10.31        34.15\n",
      "23         $27.84        $27.25   $0.59       10.49        18.63\n",
      "24         $49.10        $48.25   $0.85       19.20        43.00\n",
      "25          $6.85         $6.00   $0.85        1.00         6.73\n",
      "26         $10.41         $9.25   $1.16        2.04        16.60\n",
      "27         $43.92        $43.00   $0.92       17.30        34.00\n",
      "28         $43.94        $41.75   $2.19       16.84        40.42\n",
      "29         $44.86        $44.00   $0.86       18.20        28.00\n",
      "30          $5.98         $5.25   $0.73        0.70         5.00\n",
      "31         $31.62        $31.25   $0.37       12.40        18.00\n",
      "32         $19.07        $18.75   $0.32        6.35        16.02\n",
      "33         $41.85        $42.50   $0.65       17.30        20.00\n",
      "34          $6.47         $5.50   $0.97        1.00         4.18\n",
      "35          $6.04         $5.50   $0.54        0.80         4.00\n",
      "36          $8.01         $7.00   $1.01        1.70         5.00\n",
      "37         $36.97        $37.25   $0.28       14.94        19.37\n",
      "38         $47.41        $46.50   $0.91       18.93        35.23\n",
      "39         $29.32        $35.25   $5.93        8.12        61.10\n",
      "40         $45.19        $44.75   $0.44       18.00        33.00\n",
      "41         $22.47        $21.42   $1.05        6.88        31.77\n",
      "42          $7.56         $7.00   $0.56        1.33         7.03\n",
      "43         $25.54        $36.06  $10.52        9.22        20.43\n",
      "44          $9.41         $9.00   $0.41        1.98        10.63\n",
      "45         $47.68        $48.25   $0.57       19.77        25.52\n",
      "46         $14.87        $15.00   $0.13        3.70        24.00\n",
      "47         $18.15        $17.50   $0.65        5.80        17.38\n",
      "48          $9.55         $8.75   $0.80        2.41         5.68\n",
      "49          $8.98         $8.50   $0.48        1.86         9.35\n"
     ]
    }
   ],
   "source": [
    "\n",
    "def show_predictions(output):\n",
    "  header = \"-\" * 80\n",
    "  banner = header + \"\\n\" + \"|\" + \"PREDICTIONS\".center(78) + \"|\" + \"\\n\" + header\n",
    "  print(banner)\n",
    "  print(output)\n",
    "  return\n",
    "\n",
    "output = predict_fare(model_2, training_df, features, label)\n",
    "show_predictions(output)"
   ]
  },
  {
   "cell_type": "code",
   "execution_count": null,
   "id": "65778a09-08b3-4033-bd0b-33df8fb10588",
   "metadata": {},
   "outputs": [],
   "source": []
  }
 ],
 "metadata": {
  "kernelspec": {
   "display_name": "Python [conda env:base] *",
   "language": "python",
   "name": "conda-base-py"
  },
  "language_info": {
   "codemirror_mode": {
    "name": "ipython",
    "version": 3
   },
   "file_extension": ".py",
   "mimetype": "text/x-python",
   "name": "python",
   "nbconvert_exporter": "python",
   "pygments_lexer": "ipython3",
   "version": "3.12.7"
  }
 },
 "nbformat": 4,
 "nbformat_minor": 5
}
