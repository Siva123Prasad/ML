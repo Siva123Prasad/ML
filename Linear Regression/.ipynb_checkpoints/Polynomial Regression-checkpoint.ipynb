{
  "cells": [
    {
      "cell_type": "markdown",
      "id": "d8c22556-cec3-4714-bcd2-5c175806f493",
      "metadata": {
        "id": "d8c22556-cec3-4714-bcd2-5c175806f493"
      },
      "source": [
        "# Multiple Linear Regression: House Price Prediction\n",
        "\n",
        "This notebook demonstrates how to implement **multiple linear regression** on a house dataset. We'll handle categorical features using **dummy variables**, fit the model, and evaluate it using R² and RMSE on both train and test data.\n",
        "\n",
        "---\n",
        "\n",
        "## Step 1: Import Libraries\n"
      ]
    },
    {
      "cell_type": "code",
      "source": [
        "# Load required libraries\n",
        "import pandas as pd\n",
        "import numpy as np\n",
        "from sklearn.model_selection import train_test_split\n",
        "from sklearn.preprocessing import PolynomialFeatures\n",
        "from sklearn.linear_model import LinearRegression\n",
        "from sklearn.metrics import mean_squared_error, r2_score\n",
        "import matplotlib.pyplot as plt\n",
        "\n",
        "\n",
        "df = pd.read_csv(\"house.csv\")\n",
        "\n",
        "# Drop categorical columns as all values are the same\n",
        "df = df.drop(columns=[\"Material\", \"Locality\"])\n",
        "\n",
        "# Split into features and target\n",
        "X = df.drop(columns=[\"Price\"])\n",
        "y = df[\"Price\"]\n",
        "\n",
        "# Split data into train and test sets\n",
        "X_train, X_test, y_train, y_test = train_test_split(X, y, test_size=0.4, random_state=42)\n",
        "\n",
        "# Create polynomial features\n",
        "poly = PolynomialFeatures(degree=2, include_bias=False)\n",
        "X_train_poly = poly.fit_transform(X_train)\n",
        "X_test_poly = poly.transform(X_test)\n",
        "\n",
        "# Train the model\n",
        "model = LinearRegression()\n",
        "model.fit(X_train_poly, y_train)\n",
        "\n",
        "# Predict on train and test\n",
        "y_train_pred = model.predict(X_train_poly)\n",
        "y_test_pred = model.predict(X_test_poly)\n",
        "\n",
        "# Evaluate model\n",
        "train_rmse = np.sqrt(mean_squared_error(y_train, y_train_pred))\n",
        "test_rmse = np.sqrt(mean_squared_error(y_test, y_test_pred))\n",
        "train_r2 = r2_score(y_train, y_train_pred)\n",
        "test_r2 = r2_score(y_test, y_test_pred)\n",
        "\n",
        "# Prepare results\n",
        "results = {\n",
        "    \"Train RMSE\": train_rmse,\n",
        "    \"Test RMSE\": test_rmse,\n",
        "    \"Train R2\": train_r2,\n",
        "    \"Test R2\": test_r2\n",
        "}\n",
        "\n",
        "results\n"
      ],
      "metadata": {
        "colab": {
          "base_uri": "https://localhost:8080/"
        },
        "id": "bW5KGxMdiK_K",
        "outputId": "475ff9ef-bc68-4f26-eab4-a224d7fbc02e"
      },
      "id": "bW5KGxMdiK_K",
      "execution_count": 10,
      "outputs": [
        {
          "output_type": "execute_result",
          "data": {
            "text/plain": [
              "{'Train RMSE': np.float64(19304.938712453604),\n",
              " 'Test RMSE': np.float64(20768.254670610087),\n",
              " 'Train R2': 0.4638738628190221,\n",
              " 'Test R2': 0.4205031518199972}"
            ]
          },
          "metadata": {},
          "execution_count": 10
        }
      ]
    }
  ],
  "metadata": {
    "kernelspec": {
      "display_name": "Python 3 (ipykernel)",
      "language": "python",
      "name": "python3"
    },
    "language_info": {
      "codemirror_mode": {
        "name": "ipython",
        "version": 3
      },
      "file_extension": ".py",
      "mimetype": "text/x-python",
      "name": "python",
      "nbconvert_exporter": "python",
      "pygments_lexer": "ipython3",
      "version": "3.10.11"
    },
    "colab": {
      "provenance": []
    }
  },
  "nbformat": 4,
  "nbformat_minor": 5
}