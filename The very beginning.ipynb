{
 "cells": [
  {
   "cell_type": "markdown",
   "id": "9a74f91f-0499-4631-9b62-d9b192ddea83",
   "metadata": {},
   "source": [
    "### Variables"
   ]
  },
  {
   "cell_type": "markdown",
   "id": "85276c7f-bca5-45e2-8ea9-54846806a6f4",
   "metadata": {},
   "source": [
    "### Num"
   ]
  },
  {
   "cell_type": "code",
   "execution_count": 33,
   "id": "d245f9e1-da4e-4929-bade-f4aeab1f3d63",
   "metadata": {},
   "outputs": [
    {
     "name": "stdout",
     "output_type": "stream",
     "text": [
      "helloworld!\n"
     ]
    }
   ],
   "source": [
    "print(\"helloworld!\")"
   ]
  },
  {
   "cell_type": "code",
   "execution_count": 35,
   "id": "f30b701f-7113-45bd-97a0-8ba7d2ad29b8",
   "metadata": {},
   "outputs": [],
   "source": [
    "num = 12"
   ]
  },
  {
   "cell_type": "code",
   "execution_count": 39,
   "id": "2ad1ec04-83b4-4792-a0cf-049b3003a59e",
   "metadata": {},
   "outputs": [],
   "source": [
    "num1 = str(num)"
   ]
  },
  {
   "cell_type": "code",
   "execution_count": 41,
   "id": "a9f0cdd1-f2e5-431a-91e5-3f4b1f8319fb",
   "metadata": {},
   "outputs": [
    {
     "data": {
      "text/plain": [
       "('12', 12)"
      ]
     },
     "execution_count": 41,
     "metadata": {},
     "output_type": "execute_result"
    }
   ],
   "source": [
    "num1, num"
   ]
  },
  {
   "cell_type": "code",
   "execution_count": 45,
   "id": "cdcb6634-5385-4c69-9327-f676f760fcd3",
   "metadata": {},
   "outputs": [
    {
     "name": "stdout",
     "output_type": "stream",
     "text": [
      "<class 'str'>\n"
     ]
    }
   ],
   "source": [
    "print (type(num1))"
   ]
  },
  {
   "cell_type": "code",
   "execution_count": 70,
   "id": "66508e1f-60fd-4ad1-a52d-e55aff16fb12",
   "metadata": {},
   "outputs": [
    {
     "name": "stdout",
     "output_type": "stream",
     "text": [
      "I bought 3 kgs of apple for 155.44Rs\n",
      "I bought 3 kgs of apple for 155.44Rs\n",
      "I bought 3 kgs of apple for 155.44Rs\n"
     ]
    }
   ],
   "source": [
    "# I bought 3 kgs of apple for 155.44 Rs\n",
    "weight = 3\n",
    "fruit = \"apple\"\n",
    "cost = 155.44\n",
    "\n",
    "\n",
    "print(\"I bought\",weight,\"kgs of\",fruit,\"for \"+str(cost)+\"Rs\")\n",
    "\n",
    "print(\"I bought %d kgs of %s for %0.2fRs\"%(weight, fruit, cost))\n",
    "\n",
    "print(f\"I bought {weight} kgs of {fruit} for {cost:.2f}Rs\")"
   ]
  },
  {
   "cell_type": "code",
   "execution_count": null,
   "id": "fec642d7-094f-4782-b095-53238b2b8ed5",
   "metadata": {},
   "outputs": [],
   "source": []
  },
  {
   "cell_type": "code",
   "execution_count": null,
   "id": "efbbfd79-e372-44df-92e7-5e02f732e8a5",
   "metadata": {},
   "outputs": [],
   "source": []
  }
 ],
 "metadata": {
  "kernelspec": {
   "display_name": "Python [conda env:base] *",
   "language": "python",
   "name": "conda-base-py"
  },
  "language_info": {
   "codemirror_mode": {
    "name": "ipython",
    "version": 3
   },
   "file_extension": ".py",
   "mimetype": "text/x-python",
   "name": "python",
   "nbconvert_exporter": "python",
   "pygments_lexer": "ipython3",
   "version": "3.12.7"
  }
 },
 "nbformat": 4,
 "nbformat_minor": 5
}
