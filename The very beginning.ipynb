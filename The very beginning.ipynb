{
 "cells": [
  {
   "cell_type": "markdown",
   "id": "9a74f91f-0499-4631-9b62-d9b192ddea83",
   "metadata": {},
   "source": [
    "### Variables"
   ]
  },
  {
   "cell_type": "markdown",
   "id": "85276c7f-bca5-45e2-8ea9-54846806a6f4",
   "metadata": {},
   "source": [
    "### Num"
   ]
  },
  {
   "cell_type": "code",
   "execution_count": 33,
   "id": "d245f9e1-da4e-4929-bade-f4aeab1f3d63",
   "metadata": {},
   "outputs": [
    {
     "name": "stdout",
     "output_type": "stream",
     "text": [
      "helloworld!\n"
     ]
    }
   ],
   "source": [
    "print(\"helloworld!\")"
   ]
  },
  {
   "cell_type": "code",
   "execution_count": 35,
   "id": "f30b701f-7113-45bd-97a0-8ba7d2ad29b8",
   "metadata": {},
   "outputs": [],
   "source": [
    "num = 12"
   ]
  },
  {
   "cell_type": "code",
   "execution_count": 39,
   "id": "2ad1ec04-83b4-4792-a0cf-049b3003a59e",
   "metadata": {},
   "outputs": [],
   "source": [
    "num1 = str(num)"
   ]
  },
  {
   "cell_type": "code",
   "execution_count": 41,
   "id": "a9f0cdd1-f2e5-431a-91e5-3f4b1f8319fb",
   "metadata": {},
   "outputs": [
    {
     "data": {
      "text/plain": [
       "('12', 12)"
      ]
     },
     "execution_count": 41,
     "metadata": {},
     "output_type": "execute_result"
    }
   ],
   "source": [
    "num1, num"
   ]
  },
  {
   "cell_type": "code",
   "execution_count": 45,
   "id": "cdcb6634-5385-4c69-9327-f676f760fcd3",
   "metadata": {},
   "outputs": [
    {
     "name": "stdout",
     "output_type": "stream",
     "text": [
      "<class 'str'>\n"
     ]
    }
   ],
   "source": [
    "print (type(num1))"
   ]
  },
  {
   "cell_type": "code",
   "execution_count": 70,
   "id": "66508e1f-60fd-4ad1-a52d-e55aff16fb12",
   "metadata": {},
   "outputs": [
    {
     "name": "stdout",
     "output_type": "stream",
     "text": [
      "I bought 3 kgs of apple for 155.44Rs\n",
      "I bought 3 kgs of apple for 155.44Rs\n",
      "I bought 3 kgs of apple for 155.44Rs\n"
     ]
    }
   ],
   "source": [
    "# I bought 3 kgs of apple for 155.44 Rs\n",
    "weight = 3\n",
    "fruit = \"apple\"\n",
    "cost = 155.44\n",
    "\n",
    "\n",
    "print(\"I bought\",weight,\"kgs of\",fruit,\"for \"+str(cost)+\"Rs\")\n",
    "\n",
    "print(\"I bought %d kgs of %s for %0.2fRs\"%(weight, fruit, cost))\n",
    "\n",
    "print(f\"I bought {weight} kgs of {fruit} for {cost:.2f}Rs\")"
   ]
  },
  {
   "cell_type": "markdown",
   "id": "ca542456-8a93-4ea3-8ab4-d8dec8556dd1",
   "metadata": {},
   "source": [
    "### Variables"
   ]
  },
  {
   "cell_type": "code",
   "execution_count": 18,
   "id": "efbbfd79-e372-44df-92e7-5e02f732e8a5",
   "metadata": {},
   "outputs": [
    {
     "name": "stdin",
     "output_type": "stream",
     "text": [
      " 2\n"
     ]
    }
   ],
   "source": [
    "randomNumber = input()"
   ]
  },
  {
   "cell_type": "code",
   "execution_count": 20,
   "id": "67eafaea-0bcf-42cc-9eb6-97a570b38ec6",
   "metadata": {},
   "outputs": [
    {
     "name": "stdin",
     "output_type": "stream",
     "text": [
      "Enter your first name Siva\n"
     ]
    }
   ],
   "source": [
    "firstName = input(\"Enter your first name\")"
   ]
  },
  {
   "cell_type": "code",
   "execution_count": 23,
   "id": "3449905e-17f8-4cb9-bef7-e07dcc4ee6db",
   "metadata": {},
   "outputs": [
    {
     "name": "stdout",
     "output_type": "stream",
     "text": [
      "Siva\n"
     ]
    }
   ],
   "source": [
    "print(firstName)"
   ]
  },
  {
   "cell_type": "markdown",
   "id": "fdd98274-1c28-460d-af05-c8738bdbe05d",
   "metadata": {},
   "source": [
    "### String Operations"
   ]
  },
  {
   "cell_type": "code",
   "execution_count": 4,
   "id": "b136a570-3ed8-4045-b903-444fcddf48f2",
   "metadata": {},
   "outputs": [],
   "source": [
    "animal = \"elephant\"\n",
    "sentence = \"elephant is an animal\""
   ]
  },
  {
   "cell_type": "code",
   "execution_count": 6,
   "id": "48a32b06-741a-4618-92b0-51b4defc3513",
   "metadata": {},
   "outputs": [
    {
     "data": {
      "text/plain": [
       "8"
      ]
     },
     "execution_count": 6,
     "metadata": {},
     "output_type": "execute_result"
    }
   ],
   "source": [
    "len(animal)"
   ]
  },
  {
   "cell_type": "code",
   "execution_count": 10,
   "id": "bbae3533-621f-4d13-81da-41377426f31b",
   "metadata": {},
   "outputs": [
    {
     "data": {
      "text/plain": [
       "'p'"
      ]
     },
     "execution_count": 10,
     "metadata": {},
     "output_type": "execute_result"
    }
   ],
   "source": [
    "animal[3]"
   ]
  },
  {
   "cell_type": "code",
   "execution_count": 12,
   "id": "72cd04da-828b-4000-8fb3-1537aefc6217",
   "metadata": {},
   "outputs": [
    {
     "data": {
      "text/plain": [
       "'epha'"
      ]
     },
     "execution_count": 12,
     "metadata": {},
     "output_type": "execute_result"
    }
   ],
   "source": [
    "animal[2:6]"
   ]
  },
  {
   "cell_type": "code",
   "execution_count": 14,
   "id": "91c8b7ca-224d-4fca-b684-5ef3c86d41d8",
   "metadata": {},
   "outputs": [
    {
     "data": {
      "text/plain": [
       "'lpa'"
      ]
     },
     "execution_count": 14,
     "metadata": {},
     "output_type": "execute_result"
    }
   ],
   "source": [
    "animal[1:6:2]"
   ]
  },
  {
   "cell_type": "code",
   "execution_count": 16,
   "id": "344eb8d5-2a15-4c7f-9185-fa2b2d1dde56",
   "metadata": {},
   "outputs": [
    {
     "data": {
      "text/plain": [
       "'tnahpele'"
      ]
     },
     "execution_count": 16,
     "metadata": {},
     "output_type": "execute_result"
    }
   ],
   "source": [
    "animal[::-1]"
   ]
  },
  {
   "cell_type": "code",
   "execution_count": 18,
   "id": "a93127b9-bf71-479e-be98-e11ab4f74749",
   "metadata": {},
   "outputs": [
    {
     "data": {
      "text/plain": [
       "'Elephant'"
      ]
     },
     "execution_count": 18,
     "metadata": {},
     "output_type": "execute_result"
    }
   ],
   "source": [
    "animal.capitalize()"
   ]
  },
  {
   "cell_type": "code",
   "execution_count": 22,
   "id": "ea7a3cf1-3035-4a9e-8392-a30799a31030",
   "metadata": {},
   "outputs": [
    {
     "data": {
      "text/plain": [
       "('ELEPHANT', 'elephant')"
      ]
     },
     "execution_count": 22,
     "metadata": {},
     "output_type": "execute_result"
    }
   ],
   "source": [
    "animal.upper(), animal.lower()"
   ]
  },
  {
   "cell_type": "code",
   "execution_count": 24,
   "id": "8c5b2a7e-6239-41d7-a8d0-39fd77b2ceb4",
   "metadata": {},
   "outputs": [
    {
     "data": {
      "text/plain": [
       "'Elephant Is An Animal'"
      ]
     },
     "execution_count": 24,
     "metadata": {},
     "output_type": "execute_result"
    }
   ],
   "source": [
    "sentence.title()"
   ]
  },
  {
   "cell_type": "code",
   "execution_count": 1,
   "id": "cb249582-570e-4e5c-81b0-51abbe4a30fe",
   "metadata": {},
   "outputs": [],
   "source": [
    "file = \"TaxiFare\""
   ]
  },
  {
   "cell_type": "code",
   "execution_count": null,
   "id": "4ce10bfd-0371-4f71-92ca-9033635e67ab",
   "metadata": {},
   "outputs": [],
   "source": [
    "fileOpen = open(file, \"r\")"
   ]
  }
 ],
 "metadata": {
  "kernelspec": {
   "display_name": "Python [conda env:base] *",
   "language": "python",
   "name": "conda-base-py"
  },
  "language_info": {
   "codemirror_mode": {
    "name": "ipython",
    "version": 3
   },
   "file_extension": ".py",
   "mimetype": "text/x-python",
   "name": "python",
   "nbconvert_exporter": "python",
   "pygments_lexer": "ipython3",
   "version": "3.12.7"
  }
 },
 "nbformat": 4,
 "nbformat_minor": 5
}
